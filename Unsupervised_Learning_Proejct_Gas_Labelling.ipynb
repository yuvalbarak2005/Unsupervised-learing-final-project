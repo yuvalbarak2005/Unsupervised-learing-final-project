{
 "cells": [
  {
   "cell_type": "markdown",
   "id": "f9af57b8",
   "metadata": {},
   "source": [
    "# Gas - Dynamic Data"
   ]
  },
  {
   "cell_type": "code",
   "execution_count": 1,
   "id": "2f24b0be",
   "metadata": {},
   "outputs": [],
   "source": [
    "import csv\n",
    "import pandas as pd\n",
    "import matplotlib.pyplot as plt\n",
    "import numpy as np"
   ]
  },
  {
   "cell_type": "markdown",
   "id": "52d617c4",
   "metadata": {},
   "source": [
    "## Download the data"
   ]
  },
  {
   "cell_type": "code",
   "execution_count": 2,
   "id": "4cbf645e",
   "metadata": {},
   "outputs": [],
   "source": [
    "dataset = [i.strip().split() for i in open(\"Data/batch7.dat\").readlines()]\n",
    "#dataset"
   ]
  },
  {
   "cell_type": "code",
   "execution_count": 3,
   "id": "5ab8321c",
   "metadata": {},
   "outputs": [],
   "source": [
    "for i in range(0,len(dataset)):\n",
    "    #dataset[i] = dataset[i][1:]\n",
    "    dataset[i] = dataset[i][0].split(';') + [float(element.split(':')[1]) for element in dataset[i][1:]]\n",
    "    dataset[i] = list(dataset[i])"
   ]
  },
  {
   "cell_type": "code",
   "execution_count": 4,
   "id": "c40f3743",
   "metadata": {},
   "outputs": [
    {
     "data": {
      "text/html": [
       "<div>\n",
       "<style scoped>\n",
       "    .dataframe tbody tr th:only-of-type {\n",
       "        vertical-align: middle;\n",
       "    }\n",
       "\n",
       "    .dataframe tbody tr th {\n",
       "        vertical-align: top;\n",
       "    }\n",
       "\n",
       "    .dataframe thead th {\n",
       "        text-align: right;\n",
       "    }\n",
       "</style>\n",
       "<table border=\"1\" class=\"dataframe\">\n",
       "  <thead>\n",
       "    <tr style=\"text-align: right;\">\n",
       "      <th></th>\n",
       "      <th>Gas</th>\n",
       "      <th>concentration</th>\n",
       "      <th>2</th>\n",
       "      <th>3</th>\n",
       "      <th>4</th>\n",
       "      <th>5</th>\n",
       "      <th>6</th>\n",
       "      <th>7</th>\n",
       "      <th>8</th>\n",
       "      <th>9</th>\n",
       "      <th>...</th>\n",
       "      <th>120</th>\n",
       "      <th>121</th>\n",
       "      <th>122</th>\n",
       "      <th>123</th>\n",
       "      <th>124</th>\n",
       "      <th>125</th>\n",
       "      <th>126</th>\n",
       "      <th>127</th>\n",
       "      <th>128</th>\n",
       "      <th>129</th>\n",
       "    </tr>\n",
       "  </thead>\n",
       "  <tbody>\n",
       "    <tr>\n",
       "      <th>0</th>\n",
       "      <td>1</td>\n",
       "      <td>100.000000</td>\n",
       "      <td>73159.5410</td>\n",
       "      <td>8.054461</td>\n",
       "      <td>23.419016</td>\n",
       "      <td>37.318524</td>\n",
       "      <td>52.926152</td>\n",
       "      <td>-16.180036</td>\n",
       "      <td>-23.392268</td>\n",
       "      <td>-66.052714</td>\n",
       "      <td>...</td>\n",
       "      <td>-11.841008</td>\n",
       "      <td>-22.535339</td>\n",
       "      <td>23306.0478</td>\n",
       "      <td>4.921790</td>\n",
       "      <td>10.453345</td>\n",
       "      <td>26.869293</td>\n",
       "      <td>33.342973</td>\n",
       "      <td>-6.191215</td>\n",
       "      <td>-9.830712</td>\n",
       "      <td>-18.115832</td>\n",
       "    </tr>\n",
       "    <tr>\n",
       "      <th>1</th>\n",
       "      <td>1</td>\n",
       "      <td>10.000000</td>\n",
       "      <td>17214.4062</td>\n",
       "      <td>3.066851</td>\n",
       "      <td>8.694492</td>\n",
       "      <td>16.053404</td>\n",
       "      <td>22.050849</td>\n",
       "      <td>-3.082581</td>\n",
       "      <td>-9.347596</td>\n",
       "      <td>-19.005447</td>\n",
       "      <td>...</td>\n",
       "      <td>-2.536536</td>\n",
       "      <td>-6.256935</td>\n",
       "      <td>6657.4287</td>\n",
       "      <td>2.432613</td>\n",
       "      <td>5.920652</td>\n",
       "      <td>17.824644</td>\n",
       "      <td>22.486975</td>\n",
       "      <td>-1.496997</td>\n",
       "      <td>-2.282508</td>\n",
       "      <td>-5.792101</td>\n",
       "    </tr>\n",
       "    <tr>\n",
       "      <th>2</th>\n",
       "      <td>2</td>\n",
       "      <td>100.000000</td>\n",
       "      <td>72499.9805</td>\n",
       "      <td>11.760671</td>\n",
       "      <td>19.784823</td>\n",
       "      <td>28.803632</td>\n",
       "      <td>39.038566</td>\n",
       "      <td>-12.534761</td>\n",
       "      <td>-52.269110</td>\n",
       "      <td>-119.403834</td>\n",
       "      <td>...</td>\n",
       "      <td>-12.693258</td>\n",
       "      <td>-27.931725</td>\n",
       "      <td>30176.7824</td>\n",
       "      <td>8.994150</td>\n",
       "      <td>12.771287</td>\n",
       "      <td>33.776899</td>\n",
       "      <td>41.388151</td>\n",
       "      <td>-6.646315</td>\n",
       "      <td>-11.199621</td>\n",
       "      <td>-23.712482</td>\n",
       "    </tr>\n",
       "    <tr>\n",
       "      <th>3</th>\n",
       "      <td>2</td>\n",
       "      <td>10.000000</td>\n",
       "      <td>5193.0732</td>\n",
       "      <td>1.501464</td>\n",
       "      <td>2.192588</td>\n",
       "      <td>7.847533</td>\n",
       "      <td>18.126423</td>\n",
       "      <td>-0.923631</td>\n",
       "      <td>-1.808166</td>\n",
       "      <td>-8.571033</td>\n",
       "      <td>...</td>\n",
       "      <td>-1.209177</td>\n",
       "      <td>-4.693469</td>\n",
       "      <td>3511.7251</td>\n",
       "      <td>1.582411</td>\n",
       "      <td>1.328148</td>\n",
       "      <td>2.551579</td>\n",
       "      <td>5.309492</td>\n",
       "      <td>-0.593732</td>\n",
       "      <td>-1.014355</td>\n",
       "      <td>-4.309950</td>\n",
       "    </tr>\n",
       "    <tr>\n",
       "      <th>4</th>\n",
       "      <td>1</td>\n",
       "      <td>200.000000</td>\n",
       "      <td>110085.7266</td>\n",
       "      <td>12.956479</td>\n",
       "      <td>32.468904</td>\n",
       "      <td>51.546460</td>\n",
       "      <td>65.828700</td>\n",
       "      <td>-23.672264</td>\n",
       "      <td>-33.643204</td>\n",
       "      <td>-107.868766</td>\n",
       "      <td>...</td>\n",
       "      <td>-22.378261</td>\n",
       "      <td>-40.410280</td>\n",
       "      <td>38669.7744</td>\n",
       "      <td>8.295207</td>\n",
       "      <td>14.540645</td>\n",
       "      <td>32.476122</td>\n",
       "      <td>38.675758</td>\n",
       "      <td>-10.718451</td>\n",
       "      <td>-18.636615</td>\n",
       "      <td>-29.208257</td>\n",
       "    </tr>\n",
       "    <tr>\n",
       "      <th>...</th>\n",
       "      <td>...</td>\n",
       "      <td>...</td>\n",
       "      <td>...</td>\n",
       "      <td>...</td>\n",
       "      <td>...</td>\n",
       "      <td>...</td>\n",
       "      <td>...</td>\n",
       "      <td>...</td>\n",
       "      <td>...</td>\n",
       "      <td>...</td>\n",
       "      <td>...</td>\n",
       "      <td>...</td>\n",
       "      <td>...</td>\n",
       "      <td>...</td>\n",
       "      <td>...</td>\n",
       "      <td>...</td>\n",
       "      <td>...</td>\n",
       "      <td>...</td>\n",
       "      <td>...</td>\n",
       "      <td>...</td>\n",
       "      <td>...</td>\n",
       "    </tr>\n",
       "    <tr>\n",
       "      <th>3608</th>\n",
       "      <td>3</td>\n",
       "      <td>120.000000</td>\n",
       "      <td>4414.3472</td>\n",
       "      <td>1.948996</td>\n",
       "      <td>0.868051</td>\n",
       "      <td>1.338832</td>\n",
       "      <td>4.203063</td>\n",
       "      <td>-0.619717</td>\n",
       "      <td>-1.139482</td>\n",
       "      <td>-6.070034</td>\n",
       "      <td>...</td>\n",
       "      <td>-7.062042</td>\n",
       "      <td>-15.643877</td>\n",
       "      <td>18160.0537</td>\n",
       "      <td>3.973871</td>\n",
       "      <td>4.156835</td>\n",
       "      <td>7.583811</td>\n",
       "      <td>10.275562</td>\n",
       "      <td>-3.744552</td>\n",
       "      <td>-5.862125</td>\n",
       "      <td>-12.333741</td>\n",
       "    </tr>\n",
       "    <tr>\n",
       "      <th>3609</th>\n",
       "      <td>3</td>\n",
       "      <td>120.000000</td>\n",
       "      <td>486.1270</td>\n",
       "      <td>1.301536</td>\n",
       "      <td>0.143544</td>\n",
       "      <td>0.496622</td>\n",
       "      <td>3.210305</td>\n",
       "      <td>-0.082970</td>\n",
       "      <td>-0.346168</td>\n",
       "      <td>-2.755991</td>\n",
       "      <td>...</td>\n",
       "      <td>-7.241320</td>\n",
       "      <td>-15.175236</td>\n",
       "      <td>18350.7398</td>\n",
       "      <td>4.033102</td>\n",
       "      <td>4.436854</td>\n",
       "      <td>8.581151</td>\n",
       "      <td>11.041903</td>\n",
       "      <td>-3.873313</td>\n",
       "      <td>-5.825907</td>\n",
       "      <td>-13.087977</td>\n",
       "    </tr>\n",
       "    <tr>\n",
       "      <th>3610</th>\n",
       "      <td>3</td>\n",
       "      <td>120.000000</td>\n",
       "      <td>1444.7171</td>\n",
       "      <td>1.949078</td>\n",
       "      <td>0.570964</td>\n",
       "      <td>1.937367</td>\n",
       "      <td>4.572350</td>\n",
       "      <td>-0.289842</td>\n",
       "      <td>-0.856299</td>\n",
       "      <td>-3.220108</td>\n",
       "      <td>...</td>\n",
       "      <td>-2.592947</td>\n",
       "      <td>-6.425451</td>\n",
       "      <td>6495.3316</td>\n",
       "      <td>2.387698</td>\n",
       "      <td>1.718564</td>\n",
       "      <td>2.597477</td>\n",
       "      <td>5.208953</td>\n",
       "      <td>-1.227803</td>\n",
       "      <td>-2.223850</td>\n",
       "      <td>-5.186916</td>\n",
       "    </tr>\n",
       "    <tr>\n",
       "      <th>3611</th>\n",
       "      <td>3</td>\n",
       "      <td>120.000000</td>\n",
       "      <td>434.1050</td>\n",
       "      <td>1.370421</td>\n",
       "      <td>0.383171</td>\n",
       "      <td>1.023955</td>\n",
       "      <td>3.253930</td>\n",
       "      <td>-0.339646</td>\n",
       "      <td>-1.274937</td>\n",
       "      <td>-3.944057</td>\n",
       "      <td>...</td>\n",
       "      <td>-2.108699</td>\n",
       "      <td>-5.185653</td>\n",
       "      <td>6353.6890</td>\n",
       "      <td>2.375503</td>\n",
       "      <td>1.714248</td>\n",
       "      <td>2.509050</td>\n",
       "      <td>5.119749</td>\n",
       "      <td>-1.136507</td>\n",
       "      <td>-1.789613</td>\n",
       "      <td>-4.620748</td>\n",
       "    </tr>\n",
       "    <tr>\n",
       "      <th>3612</th>\n",
       "      <td>3</td>\n",
       "      <td>120.000000</td>\n",
       "      <td>1229.2461</td>\n",
       "      <td>1.814225</td>\n",
       "      <td>0.751415</td>\n",
       "      <td>2.509324</td>\n",
       "      <td>4.899804</td>\n",
       "      <td>-0.790435</td>\n",
       "      <td>-2.436432</td>\n",
       "      <td>-5.406528</td>\n",
       "      <td>...</td>\n",
       "      <td>-2.977284</td>\n",
       "      <td>-6.689832</td>\n",
       "      <td>8883.7808</td>\n",
       "      <td>2.793518</td>\n",
       "      <td>2.261313</td>\n",
       "      <td>3.732193</td>\n",
       "      <td>6.328930</td>\n",
       "      <td>-1.632117</td>\n",
       "      <td>-2.564888</td>\n",
       "      <td>-6.439645</td>\n",
       "    </tr>\n",
       "  </tbody>\n",
       "</table>\n",
       "<p>3613 rows × 130 columns</p>\n",
       "</div>"
      ],
      "text/plain": [
       "     Gas concentration            2          3          4          5  \\\n",
       "0      1    100.000000   73159.5410   8.054461  23.419016  37.318524   \n",
       "1      1     10.000000   17214.4062   3.066851   8.694492  16.053404   \n",
       "2      2    100.000000   72499.9805  11.760671  19.784823  28.803632   \n",
       "3      2     10.000000    5193.0732   1.501464   2.192588   7.847533   \n",
       "4      1    200.000000  110085.7266  12.956479  32.468904  51.546460   \n",
       "...   ..           ...          ...        ...        ...        ...   \n",
       "3608   3    120.000000    4414.3472   1.948996   0.868051   1.338832   \n",
       "3609   3    120.000000     486.1270   1.301536   0.143544   0.496622   \n",
       "3610   3    120.000000    1444.7171   1.949078   0.570964   1.937367   \n",
       "3611   3    120.000000     434.1050   1.370421   0.383171   1.023955   \n",
       "3612   3    120.000000    1229.2461   1.814225   0.751415   2.509324   \n",
       "\n",
       "              6          7          8           9  ...        120        121  \\\n",
       "0     52.926152 -16.180036 -23.392268  -66.052714  ... -11.841008 -22.535339   \n",
       "1     22.050849  -3.082581  -9.347596  -19.005447  ...  -2.536536  -6.256935   \n",
       "2     39.038566 -12.534761 -52.269110 -119.403834  ... -12.693258 -27.931725   \n",
       "3     18.126423  -0.923631  -1.808166   -8.571033  ...  -1.209177  -4.693469   \n",
       "4     65.828700 -23.672264 -33.643204 -107.868766  ... -22.378261 -40.410280   \n",
       "...         ...        ...        ...         ...  ...        ...        ...   \n",
       "3608   4.203063  -0.619717  -1.139482   -6.070034  ...  -7.062042 -15.643877   \n",
       "3609   3.210305  -0.082970  -0.346168   -2.755991  ...  -7.241320 -15.175236   \n",
       "3610   4.572350  -0.289842  -0.856299   -3.220108  ...  -2.592947  -6.425451   \n",
       "3611   3.253930  -0.339646  -1.274937   -3.944057  ...  -2.108699  -5.185653   \n",
       "3612   4.899804  -0.790435  -2.436432   -5.406528  ...  -2.977284  -6.689832   \n",
       "\n",
       "             122       123        124        125        126        127  \\\n",
       "0     23306.0478  4.921790  10.453345  26.869293  33.342973  -6.191215   \n",
       "1      6657.4287  2.432613   5.920652  17.824644  22.486975  -1.496997   \n",
       "2     30176.7824  8.994150  12.771287  33.776899  41.388151  -6.646315   \n",
       "3      3511.7251  1.582411   1.328148   2.551579   5.309492  -0.593732   \n",
       "4     38669.7744  8.295207  14.540645  32.476122  38.675758 -10.718451   \n",
       "...          ...       ...        ...        ...        ...        ...   \n",
       "3608  18160.0537  3.973871   4.156835   7.583811  10.275562  -3.744552   \n",
       "3609  18350.7398  4.033102   4.436854   8.581151  11.041903  -3.873313   \n",
       "3610   6495.3316  2.387698   1.718564   2.597477   5.208953  -1.227803   \n",
       "3611   6353.6890  2.375503   1.714248   2.509050   5.119749  -1.136507   \n",
       "3612   8883.7808  2.793518   2.261313   3.732193   6.328930  -1.632117   \n",
       "\n",
       "            128        129  \n",
       "0     -9.830712 -18.115832  \n",
       "1     -2.282508  -5.792101  \n",
       "2    -11.199621 -23.712482  \n",
       "3     -1.014355  -4.309950  \n",
       "4    -18.636615 -29.208257  \n",
       "...         ...        ...  \n",
       "3608  -5.862125 -12.333741  \n",
       "3609  -5.825907 -13.087977  \n",
       "3610  -2.223850  -5.186916  \n",
       "3611  -1.789613  -4.620748  \n",
       "3612  -2.564888  -6.439645  \n",
       "\n",
       "[3613 rows x 130 columns]"
      ]
     },
     "execution_count": 4,
     "metadata": {},
     "output_type": "execute_result"
    }
   ],
   "source": [
    "df = pd.DataFrame(dataset)\n",
    "df.rename(columns = {0:'Gas', 1:'concentration'}, inplace = True)\n",
    "df"
   ]
  },
  {
   "cell_type": "code",
   "execution_count": 5,
   "id": "a2f850f9",
   "metadata": {},
   "outputs": [],
   "source": [
    "Y = pd.DataFrame(columns=['Gas', 'concentration'])\n",
    "Y[['Gas']] = df[['Gas']]\n",
    "Y[['concentration']] = df[['concentration']]\n",
    "\n",
    "X = df.drop(['Gas', 'concentration'], axis=1)"
   ]
  },
  {
   "cell_type": "code",
   "execution_count": 6,
   "id": "6a1dfb65",
   "metadata": {},
   "outputs": [
    {
     "data": {
      "text/html": [
       "<div>\n",
       "<style scoped>\n",
       "    .dataframe tbody tr th:only-of-type {\n",
       "        vertical-align: middle;\n",
       "    }\n",
       "\n",
       "    .dataframe tbody tr th {\n",
       "        vertical-align: top;\n",
       "    }\n",
       "\n",
       "    .dataframe thead th {\n",
       "        text-align: right;\n",
       "    }\n",
       "</style>\n",
       "<table border=\"1\" class=\"dataframe\">\n",
       "  <thead>\n",
       "    <tr style=\"text-align: right;\">\n",
       "      <th></th>\n",
       "      <th>2</th>\n",
       "      <th>3</th>\n",
       "      <th>4</th>\n",
       "      <th>5</th>\n",
       "      <th>6</th>\n",
       "      <th>7</th>\n",
       "      <th>8</th>\n",
       "      <th>9</th>\n",
       "      <th>10</th>\n",
       "      <th>11</th>\n",
       "      <th>...</th>\n",
       "      <th>120</th>\n",
       "      <th>121</th>\n",
       "      <th>122</th>\n",
       "      <th>123</th>\n",
       "      <th>124</th>\n",
       "      <th>125</th>\n",
       "      <th>126</th>\n",
       "      <th>127</th>\n",
       "      <th>128</th>\n",
       "      <th>129</th>\n",
       "    </tr>\n",
       "  </thead>\n",
       "  <tbody>\n",
       "    <tr>\n",
       "      <th>0</th>\n",
       "      <td>73159.5410</td>\n",
       "      <td>8.054461</td>\n",
       "      <td>23.419016</td>\n",
       "      <td>37.318524</td>\n",
       "      <td>52.926152</td>\n",
       "      <td>-16.180036</td>\n",
       "      <td>-23.392268</td>\n",
       "      <td>-66.052714</td>\n",
       "      <td>58660.4472</td>\n",
       "      <td>6.196936</td>\n",
       "      <td>...</td>\n",
       "      <td>-11.841008</td>\n",
       "      <td>-22.535339</td>\n",
       "      <td>23306.0478</td>\n",
       "      <td>4.921790</td>\n",
       "      <td>10.453345</td>\n",
       "      <td>26.869293</td>\n",
       "      <td>33.342973</td>\n",
       "      <td>-6.191215</td>\n",
       "      <td>-9.830712</td>\n",
       "      <td>-18.115832</td>\n",
       "    </tr>\n",
       "    <tr>\n",
       "      <th>1</th>\n",
       "      <td>17214.4062</td>\n",
       "      <td>3.066851</td>\n",
       "      <td>8.694492</td>\n",
       "      <td>16.053404</td>\n",
       "      <td>22.050849</td>\n",
       "      <td>-3.082581</td>\n",
       "      <td>-9.347596</td>\n",
       "      <td>-19.005447</td>\n",
       "      <td>13802.6933</td>\n",
       "      <td>2.626742</td>\n",
       "      <td>...</td>\n",
       "      <td>-2.536536</td>\n",
       "      <td>-6.256935</td>\n",
       "      <td>6657.4287</td>\n",
       "      <td>2.432613</td>\n",
       "      <td>5.920652</td>\n",
       "      <td>17.824644</td>\n",
       "      <td>22.486975</td>\n",
       "      <td>-1.496997</td>\n",
       "      <td>-2.282508</td>\n",
       "      <td>-5.792101</td>\n",
       "    </tr>\n",
       "    <tr>\n",
       "      <th>2</th>\n",
       "      <td>72499.9805</td>\n",
       "      <td>11.760671</td>\n",
       "      <td>19.784823</td>\n",
       "      <td>28.803632</td>\n",
       "      <td>39.038566</td>\n",
       "      <td>-12.534761</td>\n",
       "      <td>-52.269110</td>\n",
       "      <td>-119.403834</td>\n",
       "      <td>71772.2754</td>\n",
       "      <td>11.680823</td>\n",
       "      <td>...</td>\n",
       "      <td>-12.693258</td>\n",
       "      <td>-27.931725</td>\n",
       "      <td>30176.7824</td>\n",
       "      <td>8.994150</td>\n",
       "      <td>12.771287</td>\n",
       "      <td>33.776899</td>\n",
       "      <td>41.388151</td>\n",
       "      <td>-6.646315</td>\n",
       "      <td>-11.199621</td>\n",
       "      <td>-23.712482</td>\n",
       "    </tr>\n",
       "    <tr>\n",
       "      <th>3</th>\n",
       "      <td>5193.0732</td>\n",
       "      <td>1.501464</td>\n",
       "      <td>2.192588</td>\n",
       "      <td>7.847533</td>\n",
       "      <td>18.126423</td>\n",
       "      <td>-0.923631</td>\n",
       "      <td>-1.808166</td>\n",
       "      <td>-8.571033</td>\n",
       "      <td>6005.3154</td>\n",
       "      <td>1.540720</td>\n",
       "      <td>...</td>\n",
       "      <td>-1.209177</td>\n",
       "      <td>-4.693469</td>\n",
       "      <td>3511.7251</td>\n",
       "      <td>1.582411</td>\n",
       "      <td>1.328148</td>\n",
       "      <td>2.551579</td>\n",
       "      <td>5.309492</td>\n",
       "      <td>-0.593732</td>\n",
       "      <td>-1.014355</td>\n",
       "      <td>-4.309950</td>\n",
       "    </tr>\n",
       "    <tr>\n",
       "      <th>4</th>\n",
       "      <td>110085.7266</td>\n",
       "      <td>12.956479</td>\n",
       "      <td>32.468904</td>\n",
       "      <td>51.546460</td>\n",
       "      <td>65.828700</td>\n",
       "      <td>-23.672264</td>\n",
       "      <td>-33.643204</td>\n",
       "      <td>-107.868766</td>\n",
       "      <td>86485.9551</td>\n",
       "      <td>9.557302</td>\n",
       "      <td>...</td>\n",
       "      <td>-22.378261</td>\n",
       "      <td>-40.410280</td>\n",
       "      <td>38669.7744</td>\n",
       "      <td>8.295207</td>\n",
       "      <td>14.540645</td>\n",
       "      <td>32.476122</td>\n",
       "      <td>38.675758</td>\n",
       "      <td>-10.718451</td>\n",
       "      <td>-18.636615</td>\n",
       "      <td>-29.208257</td>\n",
       "    </tr>\n",
       "    <tr>\n",
       "      <th>...</th>\n",
       "      <td>...</td>\n",
       "      <td>...</td>\n",
       "      <td>...</td>\n",
       "      <td>...</td>\n",
       "      <td>...</td>\n",
       "      <td>...</td>\n",
       "      <td>...</td>\n",
       "      <td>...</td>\n",
       "      <td>...</td>\n",
       "      <td>...</td>\n",
       "      <td>...</td>\n",
       "      <td>...</td>\n",
       "      <td>...</td>\n",
       "      <td>...</td>\n",
       "      <td>...</td>\n",
       "      <td>...</td>\n",
       "      <td>...</td>\n",
       "      <td>...</td>\n",
       "      <td>...</td>\n",
       "      <td>...</td>\n",
       "      <td>...</td>\n",
       "    </tr>\n",
       "    <tr>\n",
       "      <th>3608</th>\n",
       "      <td>4414.3472</td>\n",
       "      <td>1.948996</td>\n",
       "      <td>0.868051</td>\n",
       "      <td>1.338832</td>\n",
       "      <td>4.203063</td>\n",
       "      <td>-0.619717</td>\n",
       "      <td>-1.139482</td>\n",
       "      <td>-6.070034</td>\n",
       "      <td>90386.2266</td>\n",
       "      <td>4.796104</td>\n",
       "      <td>...</td>\n",
       "      <td>-7.062042</td>\n",
       "      <td>-15.643877</td>\n",
       "      <td>18160.0537</td>\n",
       "      <td>3.973871</td>\n",
       "      <td>4.156835</td>\n",
       "      <td>7.583811</td>\n",
       "      <td>10.275562</td>\n",
       "      <td>-3.744552</td>\n",
       "      <td>-5.862125</td>\n",
       "      <td>-12.333741</td>\n",
       "    </tr>\n",
       "    <tr>\n",
       "      <th>3609</th>\n",
       "      <td>486.1270</td>\n",
       "      <td>1.301536</td>\n",
       "      <td>0.143544</td>\n",
       "      <td>0.496622</td>\n",
       "      <td>3.210305</td>\n",
       "      <td>-0.082970</td>\n",
       "      <td>-0.346168</td>\n",
       "      <td>-2.755991</td>\n",
       "      <td>93360.1836</td>\n",
       "      <td>4.872469</td>\n",
       "      <td>...</td>\n",
       "      <td>-7.241320</td>\n",
       "      <td>-15.175236</td>\n",
       "      <td>18350.7398</td>\n",
       "      <td>4.033102</td>\n",
       "      <td>4.436854</td>\n",
       "      <td>8.581151</td>\n",
       "      <td>11.041903</td>\n",
       "      <td>-3.873313</td>\n",
       "      <td>-5.825907</td>\n",
       "      <td>-13.087977</td>\n",
       "    </tr>\n",
       "    <tr>\n",
       "      <th>3610</th>\n",
       "      <td>1444.7171</td>\n",
       "      <td>1.949078</td>\n",
       "      <td>0.570964</td>\n",
       "      <td>1.937367</td>\n",
       "      <td>4.572350</td>\n",
       "      <td>-0.289842</td>\n",
       "      <td>-0.856299</td>\n",
       "      <td>-3.220108</td>\n",
       "      <td>10041.3838</td>\n",
       "      <td>2.716187</td>\n",
       "      <td>...</td>\n",
       "      <td>-2.592947</td>\n",
       "      <td>-6.425451</td>\n",
       "      <td>6495.3316</td>\n",
       "      <td>2.387698</td>\n",
       "      <td>1.718564</td>\n",
       "      <td>2.597477</td>\n",
       "      <td>5.208953</td>\n",
       "      <td>-1.227803</td>\n",
       "      <td>-2.223850</td>\n",
       "      <td>-5.186916</td>\n",
       "    </tr>\n",
       "    <tr>\n",
       "      <th>3611</th>\n",
       "      <td>434.1050</td>\n",
       "      <td>1.370421</td>\n",
       "      <td>0.383171</td>\n",
       "      <td>1.023955</td>\n",
       "      <td>3.253930</td>\n",
       "      <td>-0.339646</td>\n",
       "      <td>-1.274937</td>\n",
       "      <td>-3.944057</td>\n",
       "      <td>9988.8360</td>\n",
       "      <td>2.759382</td>\n",
       "      <td>...</td>\n",
       "      <td>-2.108699</td>\n",
       "      <td>-5.185653</td>\n",
       "      <td>6353.6890</td>\n",
       "      <td>2.375503</td>\n",
       "      <td>1.714248</td>\n",
       "      <td>2.509050</td>\n",
       "      <td>5.119749</td>\n",
       "      <td>-1.136507</td>\n",
       "      <td>-1.789613</td>\n",
       "      <td>-4.620748</td>\n",
       "    </tr>\n",
       "    <tr>\n",
       "      <th>3612</th>\n",
       "      <td>1229.2461</td>\n",
       "      <td>1.814225</td>\n",
       "      <td>0.751415</td>\n",
       "      <td>2.509324</td>\n",
       "      <td>4.899804</td>\n",
       "      <td>-0.790435</td>\n",
       "      <td>-2.436432</td>\n",
       "      <td>-5.406528</td>\n",
       "      <td>17804.4976</td>\n",
       "      <td>3.239646</td>\n",
       "      <td>...</td>\n",
       "      <td>-2.977284</td>\n",
       "      <td>-6.689832</td>\n",
       "      <td>8883.7808</td>\n",
       "      <td>2.793518</td>\n",
       "      <td>2.261313</td>\n",
       "      <td>3.732193</td>\n",
       "      <td>6.328930</td>\n",
       "      <td>-1.632117</td>\n",
       "      <td>-2.564888</td>\n",
       "      <td>-6.439645</td>\n",
       "    </tr>\n",
       "  </tbody>\n",
       "</table>\n",
       "<p>3613 rows × 128 columns</p>\n",
       "</div>"
      ],
      "text/plain": [
       "              2          3          4          5          6          7    \\\n",
       "0      73159.5410   8.054461  23.419016  37.318524  52.926152 -16.180036   \n",
       "1      17214.4062   3.066851   8.694492  16.053404  22.050849  -3.082581   \n",
       "2      72499.9805  11.760671  19.784823  28.803632  39.038566 -12.534761   \n",
       "3       5193.0732   1.501464   2.192588   7.847533  18.126423  -0.923631   \n",
       "4     110085.7266  12.956479  32.468904  51.546460  65.828700 -23.672264   \n",
       "...           ...        ...        ...        ...        ...        ...   \n",
       "3608    4414.3472   1.948996   0.868051   1.338832   4.203063  -0.619717   \n",
       "3609     486.1270   1.301536   0.143544   0.496622   3.210305  -0.082970   \n",
       "3610    1444.7171   1.949078   0.570964   1.937367   4.572350  -0.289842   \n",
       "3611     434.1050   1.370421   0.383171   1.023955   3.253930  -0.339646   \n",
       "3612    1229.2461   1.814225   0.751415   2.509324   4.899804  -0.790435   \n",
       "\n",
       "            8           9           10         11   ...        120        121  \\\n",
       "0    -23.392268  -66.052714  58660.4472   6.196936  ... -11.841008 -22.535339   \n",
       "1     -9.347596  -19.005447  13802.6933   2.626742  ...  -2.536536  -6.256935   \n",
       "2    -52.269110 -119.403834  71772.2754  11.680823  ... -12.693258 -27.931725   \n",
       "3     -1.808166   -8.571033   6005.3154   1.540720  ...  -1.209177  -4.693469   \n",
       "4    -33.643204 -107.868766  86485.9551   9.557302  ... -22.378261 -40.410280   \n",
       "...         ...         ...         ...        ...  ...        ...        ...   \n",
       "3608  -1.139482   -6.070034  90386.2266   4.796104  ...  -7.062042 -15.643877   \n",
       "3609  -0.346168   -2.755991  93360.1836   4.872469  ...  -7.241320 -15.175236   \n",
       "3610  -0.856299   -3.220108  10041.3838   2.716187  ...  -2.592947  -6.425451   \n",
       "3611  -1.274937   -3.944057   9988.8360   2.759382  ...  -2.108699  -5.185653   \n",
       "3612  -2.436432   -5.406528  17804.4976   3.239646  ...  -2.977284  -6.689832   \n",
       "\n",
       "             122       123        124        125        126        127  \\\n",
       "0     23306.0478  4.921790  10.453345  26.869293  33.342973  -6.191215   \n",
       "1      6657.4287  2.432613   5.920652  17.824644  22.486975  -1.496997   \n",
       "2     30176.7824  8.994150  12.771287  33.776899  41.388151  -6.646315   \n",
       "3      3511.7251  1.582411   1.328148   2.551579   5.309492  -0.593732   \n",
       "4     38669.7744  8.295207  14.540645  32.476122  38.675758 -10.718451   \n",
       "...          ...       ...        ...        ...        ...        ...   \n",
       "3608  18160.0537  3.973871   4.156835   7.583811  10.275562  -3.744552   \n",
       "3609  18350.7398  4.033102   4.436854   8.581151  11.041903  -3.873313   \n",
       "3610   6495.3316  2.387698   1.718564   2.597477   5.208953  -1.227803   \n",
       "3611   6353.6890  2.375503   1.714248   2.509050   5.119749  -1.136507   \n",
       "3612   8883.7808  2.793518   2.261313   3.732193   6.328930  -1.632117   \n",
       "\n",
       "            128        129  \n",
       "0     -9.830712 -18.115832  \n",
       "1     -2.282508  -5.792101  \n",
       "2    -11.199621 -23.712482  \n",
       "3     -1.014355  -4.309950  \n",
       "4    -18.636615 -29.208257  \n",
       "...         ...        ...  \n",
       "3608  -5.862125 -12.333741  \n",
       "3609  -5.825907 -13.087977  \n",
       "3610  -2.223850  -5.186916  \n",
       "3611  -1.789613  -4.620748  \n",
       "3612  -2.564888  -6.439645  \n",
       "\n",
       "[3613 rows x 128 columns]"
      ]
     },
     "execution_count": 6,
     "metadata": {},
     "output_type": "execute_result"
    }
   ],
   "source": [
    "X"
   ]
  },
  {
   "cell_type": "code",
   "execution_count": 7,
   "id": "c537f7d6",
   "metadata": {},
   "outputs": [
    {
     "data": {
      "text/html": [
       "<div>\n",
       "<style scoped>\n",
       "    .dataframe tbody tr th:only-of-type {\n",
       "        vertical-align: middle;\n",
       "    }\n",
       "\n",
       "    .dataframe tbody tr th {\n",
       "        vertical-align: top;\n",
       "    }\n",
       "\n",
       "    .dataframe thead th {\n",
       "        text-align: right;\n",
       "    }\n",
       "</style>\n",
       "<table border=\"1\" class=\"dataframe\">\n",
       "  <thead>\n",
       "    <tr style=\"text-align: right;\">\n",
       "      <th></th>\n",
       "      <th>Gas</th>\n",
       "      <th>concentration</th>\n",
       "    </tr>\n",
       "  </thead>\n",
       "  <tbody>\n",
       "    <tr>\n",
       "      <th>0</th>\n",
       "      <td>1</td>\n",
       "      <td>100.000000</td>\n",
       "    </tr>\n",
       "    <tr>\n",
       "      <th>1</th>\n",
       "      <td>1</td>\n",
       "      <td>10.000000</td>\n",
       "    </tr>\n",
       "    <tr>\n",
       "      <th>2</th>\n",
       "      <td>2</td>\n",
       "      <td>100.000000</td>\n",
       "    </tr>\n",
       "    <tr>\n",
       "      <th>3</th>\n",
       "      <td>2</td>\n",
       "      <td>10.000000</td>\n",
       "    </tr>\n",
       "    <tr>\n",
       "      <th>4</th>\n",
       "      <td>1</td>\n",
       "      <td>200.000000</td>\n",
       "    </tr>\n",
       "  </tbody>\n",
       "</table>\n",
       "</div>"
      ],
      "text/plain": [
       "  Gas concentration\n",
       "0   1    100.000000\n",
       "1   1     10.000000\n",
       "2   2    100.000000\n",
       "3   2     10.000000\n",
       "4   1    200.000000"
      ]
     },
     "execution_count": 7,
     "metadata": {},
     "output_type": "execute_result"
    }
   ],
   "source": [
    "Y.head()"
   ]
  },
  {
   "cell_type": "code",
   "execution_count": 8,
   "id": "c02988fa",
   "metadata": {},
   "outputs": [],
   "source": [
    "from sklearn.model_selection import train_test_split\n",
    "X_train, X_test, y_train, y_test = train_test_split(X,Y ,random_state=69, test_size=0.25, shuffle=True)"
   ]
  },
  {
   "cell_type": "code",
   "execution_count": 9,
   "id": "d9f3e3c4",
   "metadata": {},
   "outputs": [],
   "source": [
    "from sklearn.manifold import TSNE\n",
    "tsne = TSNE(n_components=2)\n",
    "transformed_data = tsne.fit_transform(X_train)"
   ]
  },
  {
   "cell_type": "code",
   "execution_count": 10,
   "id": "c8c91946",
   "metadata": {},
   "outputs": [],
   "source": [
    "transformed_data_test = tsne.fit_transform(X_test)"
   ]
  },
  {
   "cell_type": "markdown",
   "id": "21d76257",
   "metadata": {},
   "source": [
    "## clustering"
   ]
  },
  {
   "cell_type": "code",
   "execution_count": 12,
   "id": "bdd41f35",
   "metadata": {},
   "outputs": [],
   "source": [
    "from sklearn.cluster import KMeans, AgglomerativeClustering \n",
    "from sklearn_extra.cluster import KMedoids\n",
    "from sklearn.cluster import MiniBatchKMeans"
   ]
  },
  {
   "cell_type": "markdown",
   "id": "854d059d",
   "metadata": {},
   "source": [
    "### elbow method"
   ]
  },
  {
   "cell_type": "code",
   "execution_count": 14,
   "id": "ba66f581",
   "metadata": {},
   "outputs": [],
   "source": [
    "k = 6"
   ]
  },
  {
   "cell_type": "code",
   "execution_count": 15,
   "id": "5471dd87",
   "metadata": {},
   "outputs": [],
   "source": [
    "#KMEANS\n",
    "kmeans = KMeans(n_clusters=k, random_state=42, n_init=\"auto\").fit(X_train)\n",
    "clusters_km = kmeans.predict(X_train)"
   ]
  },
  {
   "cell_type": "code",
   "execution_count": 16,
   "id": "b7cdee46",
   "metadata": {},
   "outputs": [
    {
     "name": "stderr",
     "output_type": "stream",
     "text": [
      "C:\\Users\\yuval\\anaconda3\\envs\\APPLIED_MACHINE_LEARING\\lib\\site-packages\\sklearn\\cluster\\_kmeans.py:870: FutureWarning: The default value of `n_init` will change from 3 to 'auto' in 1.4. Set the value of `n_init` explicitly to suppress the warning\n",
      "  warnings.warn(\n"
     ]
    }
   ],
   "source": [
    "#minibatch k means\n",
    "mbkm = MiniBatchKMeans(n_clusters=k).fit(X_train)\n",
    "clusters_mbkm = mbkm.predict(X_train)"
   ]
  },
  {
   "cell_type": "code",
   "execution_count": 17,
   "id": "6870179f",
   "metadata": {},
   "outputs": [],
   "source": [
    "#KMedoids\n",
    "kmedoids = KMedoids(n_clusters=k, metric='euclidean')\n",
    "kmedoids.fit(X_train)\n",
    "clusters_kmedoids = kmedoids.predict(X_train)"
   ]
  },
  {
   "cell_type": "code",
   "execution_count": 18,
   "id": "bb53481f",
   "metadata": {},
   "outputs": [
    {
     "name": "stderr",
     "output_type": "stream",
     "text": [
      "C:\\Users\\yuval\\anaconda3\\envs\\APPLIED_MACHINE_LEARING\\lib\\site-packages\\sklearn\\cluster\\_agglomerative.py:983: FutureWarning: Attribute `affinity` was deprecated in version 1.2 and will be removed in 1.4. Use `metric` instead\n",
      "  warnings.warn(\n"
     ]
    }
   ],
   "source": [
    "#Hierarchical Clustering\n",
    "hierarchical_clustering = AgglomerativeClustering(n_clusters=k, affinity='euclidean', linkage='ward')\n",
    "clusters_hier = hierarchical_clustering.fit_predict(X_train)"
   ]
  },
  {
   "cell_type": "code",
   "execution_count": 19,
   "id": "76b3639d",
   "metadata": {},
   "outputs": [],
   "source": [
    "clusters = [clusters_hier, clusters_kmedoids, clusters_km, clusters_mbkm]\n",
    "methods = [\"Hierarchical\", \"K medoids\", \"k means\", \"Minibatch K means\"]"
   ]
  },
  {
   "cell_type": "markdown",
   "id": "ed8ae9ce",
   "metadata": {},
   "source": [
    "### caluclate mutual information and statistical tests"
   ]
  },
  {
   "cell_type": "code",
   "execution_count": 21,
   "id": "2390630d",
   "metadata": {},
   "outputs": [
    {
     "name": "stderr",
     "output_type": "stream",
     "text": [
      "C:\\Users\\yuval\\anaconda3\\envs\\APPLIED_MACHINE_LEARING\\lib\\site-packages\\sklearn\\cluster\\_agglomerative.py:983: FutureWarning: Attribute `affinity` was deprecated in version 1.2 and will be removed in 1.4. Use `metric` instead\n",
      "  warnings.warn(\n"
     ]
    }
   ],
   "source": [
    "predicted_clusters = [[int(x) for x in hierarchical_clustering.fit_predict(X_test)],\n",
    "                      [int(x) for x in kmedoids.predict(X_test)],\n",
    "                      [int(x) for x in kmeans.predict(X_test)],\n",
    "                      [int(x) for x in mbkm.predict(X_test)]]\n",
    "labels_list_train = [int(x) for x in list(y_train[\"Gas\"])]\n",
    "labels_list_test = [int(x) for x in list(y_test[\"Gas\"])]"
   ]
  },
  {
   "cell_type": "code",
   "execution_count": 23,
   "id": "029be81f",
   "metadata": {},
   "outputs": [],
   "source": [
    "#mutual information\n",
    "from sklearn.metrics import mutual_info_score\n",
    "\n",
    "def calculate_mi_on_groups(cluster, labels, r, g):\n",
    "    mi = []\n",
    "    for i in range(0,r): \n",
    "        clusters_group = cluster[i*g: (i+1)*g]\n",
    "        labels_group = labels[i*g: (i+1)*g]\n",
    "        mi.append(mutual_info_score(clusters_group, labels_group))\n",
    "    return mi  "
   ]
  },
  {
   "cell_type": "code",
   "execution_count": 24,
   "id": "71238fe7",
   "metadata": {},
   "outputs": [
    {
     "name": "stdout",
     "output_type": "stream",
     "text": [
      "mutual information between Hierarchical and the ground truth is 0.817137305096215\n",
      "mutual information between K medoids and the ground truth is 0.9553462498855911\n",
      "mutual information between k means and the ground truth is 0.8357252874813053\n",
      "mutual information between Minibatch K means and the ground truth is 0.8574341793376398\n"
     ]
    }
   ],
   "source": [
    "mutual_informations = []\n",
    "for method_, cluster_ in zip(methods, predicted_clusters):\n",
    "    mutual_informations.append(calculate_mi_on_groups(cluster_, labels_list_test, 43, 21))\n",
    "    print(f\"mutual information between {method_} and the ground truth is {np.mean(calculate_mi_on_groups(cluster_, labels_list_test, 43, 21))}\")"
   ]
  },
  {
   "cell_type": "code",
   "execution_count": 25,
   "id": "679e8bc1",
   "metadata": {},
   "outputs": [
    {
     "name": "stdout",
     "output_type": "stream",
     "text": [
      "mutual information between Hierarchical and the ground truth is 0.817137305096215\n",
      "mutual information between K medoids and the ground truth is 0.9553462498855911\n",
      "mutual information between k means and the ground truth is 0.8357252874813053\n",
      "mutual information between Minibatch K means and the ground truth is 0.8574341793376398\n"
     ]
    },
    {
     "data": {
      "image/png": "[encoded data removed]",
      "text/plain": [
       "<Figure size 640x480 with 1 Axes>"
      ]
     },
     "metadata": {},
     "output_type": "display_data"
    }
   ],
   "source": [
    "import matplotlib.pyplot as plt\n",
    "import numpy as np\n",
    "\n",
    "# Define the colormap\n",
    "cmap = plt.get_cmap('RdYlBu')\n",
    "\n",
    "mutual_informations = []\n",
    "mutual_informations_vec = []\n",
    "labels = []\n",
    "for method_, cluster_ in zip(methods, predicted_clusters):\n",
    "    mi = calculate_mi_on_groups(cluster_, labels_list_test, 43, 21)\n",
    "    mutual_informations.append(np.mean(mi))\n",
    "    mutual_informations_vec.append(mi)\n",
    "    labels.append(method_)\n",
    "    print(f\"mutual information between {method_} and the ground truth is {np.mean(mi)}\")\n",
    "\n",
    "# Plot the bar graph\n",
    "fig, ax = plt.subplots()\n",
    "bars = ax.bar(labels, mutual_informations, width=0.5, color=cmap(np.linspace(0, 1, len(mutual_informations))))\n",
    "\n",
    "# Set the x-axis tick labels to be horizontal\n",
    "ax.tick_params(axis='x', labelrotation=0, labelsize=10)\n",
    "\n",
    "# Add labels and title\n",
    "ax.set_ylabel('Mutual Information')\n",
    "\n",
    "# Save the plot as a PNG image\n",
    "plt.savefig('mutual_information_plot_gas.png', dpi=300, bbox_inches='tight')\n",
    "\n",
    "plt.show()\n"
   ]
  },
  {
   "cell_type": "code",
   "execution_count": 26,
   "id": "e9eaf7d9",
   "metadata": {},
   "outputs": [
    {
     "name": "stdout",
     "output_type": "stream",
     "text": [
      "t-statistic = 6.15, p-value = 5.40e-04 = 0.00054\n"
     ]
    }
   ],
   "source": [
    "#Anova test\n",
    "from scipy.stats import f_oneway\n",
    "# perform ANOVA test\n",
    "t_statistic, p_value = f_oneway(*mutual_informations_vec)\n",
    "\n",
    "print(\"t-statistic = {:.2f}, p-value = {:.2e} = {:.5f}\".format(t_statistic, p_value, p_value))"
   ]
  },
  {
   "cell_type": "code",
   "execution_count": 27,
   "id": "2c0452e0",
   "metadata": {},
   "outputs": [
    {
     "name": "stdout",
     "output_type": "stream",
     "text": [
      "t test between K medoids and Hierarchical\n",
      "t-statistic = 4.08, p-value = 1.02e-04 = 0.00010\n",
      " \n",
      "t test between K medoids and k means\n",
      "t-statistic = 3.44, p-value = 8.95e-04 = 0.00089\n",
      " \n",
      "t test between K medoids and Minibatch K means\n",
      "t-statistic = 2.69, p-value = 8.73e-03 = 0.00873\n",
      " \n"
     ]
    }
   ],
   "source": [
    "from scipy.stats import ttest_ind\n",
    "\n",
    "dueos = [(1,0), (1,2), (1,3)]\n",
    "for i, j in dueos:\n",
    "    # perform t-test\n",
    "    t_statistic, p_value = ttest_ind(mutual_informations_vec[i], mutual_informations_vec[j])\n",
    "\n",
    "    # print the result\n",
    "    print(f\"t test between {methods[i]} and {methods[j]}\")\n",
    "    print(\"t-statistic = {:.2f}, p-value = {:.2e} = {:.5f}\".format(t_statistic, p_value, p_value))\n",
    "    print(\" \")\n"
   ]
  },
  {
   "cell_type": "code",
   "execution_count": 28,
   "id": "d61c3421",
   "metadata": {},
   "outputs": [
    {
     "name": "stdout",
     "output_type": "stream",
     "text": [
      "t test between K medoids and Heirarchical clustering\n",
      "t-statistic = nan, p-value = nan = nan\n",
      " \n",
      "t test between K medoids and K means\n",
      "t-statistic = nan, p-value = nan = nan\n",
      " \n",
      "t test between K medoids and Minibatch K means\n",
      "t-statistic = nan, p-value = nan = nan\n",
      " \n"
     ]
    },
    {
     "name": "stderr",
     "output_type": "stream",
     "text": [
      "C:\\Users\\yuval\\AppData\\Local\\Temp\\ipykernel_17112\\4038866987.py:12: RuntimeWarning: Precision loss occurred in moment calculation due to catastrophic cancellation. This occurs when the data are nearly identical. Results may be unreliable.\n",
      "  t_statistic, p_value = ttest_ind(mutual_informations[i], mutual_informations[j])\n",
      "C:\\Users\\yuval\\anaconda3\\envs\\APPLIED_MACHINE_LEARING\\lib\\site-packages\\scipy\\stats\\_stats_py.py:1214: RuntimeWarning: divide by zero encountered in divide\n",
      "  var *= np.divide(n, n-ddof)  # to avoid error on division by zero\n",
      "C:\\Users\\yuval\\anaconda3\\envs\\APPLIED_MACHINE_LEARING\\lib\\site-packages\\scipy\\stats\\_stats_py.py:1214: RuntimeWarning: invalid value encountered in scalar multiply\n",
      "  var *= np.divide(n, n-ddof)  # to avoid error on division by zero\n"
     ]
    },
    {
     "data": {
      "image/png": "[encoded data removed]",
      "text/plain": [
       "<Figure size 640x480 with 1 Axes>"
      ]
     },
     "metadata": {},
     "output_type": "display_data"
    }
   ],
   "source": [
    "import matplotlib.pyplot as plt\n",
    "import numpy as np\n",
    "from scipy.stats import ttest_ind\n",
    "\n",
    "dueos = [(1,0), (1,2), (1,3)]\n",
    "\n",
    "p_values = []\n",
    "methods = [\"Heirarchical clustering\", \"K medoids\", \"K means\", \"Minibatch K means\"]\n",
    "\n",
    "for i, j in dueos:\n",
    "    # perform t-test\n",
    "    t_statistic, p_value = ttest_ind(mutual_informations[i], mutual_informations[j])\n",
    "\n",
    "    # add p-value to list\n",
    "    p_values.append(p_value)\n",
    "\n",
    "    # print the result\n",
    "    print(f\"t test between {methods[i]} and {methods[j]}\")\n",
    "    print(\"t-statistic = {:.2f}, p-value = {:.2e} = {:.5f}\".format(t_statistic, p_value, p_value))\n",
    "    print(\" \")\n"
   ]
  },
  {
   "cell_type": "markdown",
   "id": "f246986d",
   "metadata": {},
   "source": [
    "**based on the statistical test, the best clustering model is _K medoids_**"
   ]
  },
  {
   "cell_type": "markdown",
   "id": "43099b3c",
   "metadata": {},
   "source": [
    "## Annomaly Detection"
   ]
  },
  {
   "cell_type": "markdown",
   "id": "7dfb8cf7",
   "metadata": {},
   "source": [
    "### Perform the annomaly detection"
   ]
  },
  {
   "cell_type": "code",
   "execution_count": 29,
   "id": "1305f48a",
   "metadata": {},
   "outputs": [],
   "source": [
    "from sklearn.mixture import GaussianMixture\n",
    "from sklearn.neighbors import LocalOutlierFactor\n",
    "from sklearn.ensemble import IsolationForest\n",
    "from sklearn.svm import OneClassSVM"
   ]
  },
  {
   "cell_type": "code",
   "execution_count": 30,
   "id": "0f38ffa9",
   "metadata": {},
   "outputs": [],
   "source": [
    "#LOF\n",
    "lof = LocalOutlierFactor(n_neighbors=20, contamination=0.3)\n",
    "y_pred_lof = lof.fit_predict(X_train)\n",
    "y_pred_lof\n",
    "y_pred_lof_test = lof.fit_predict(X_test)"
   ]
  },
  {
   "cell_type": "code",
   "execution_count": 31,
   "id": "1e3409a8",
   "metadata": {},
   "outputs": [],
   "source": [
    "#Isolation Forest\n",
    "isolation_forest = IsolationForest(n_estimators=500, contamination=0.01)\n",
    "y_pred_if = isolation_forest.fit_predict(X_train)\n",
    "y_pred_if\n",
    "y_pred_if_test = isolation_forest.fit_predict(X_test)"
   ]
  },
  {
   "cell_type": "code",
   "execution_count": 32,
   "id": "bf791c1a",
   "metadata": {},
   "outputs": [],
   "source": [
    "#One-Class SVM\n",
    "one_class_svm = OneClassSVM(kernel='rbf', nu=0.01)\n",
    "one_class_svm.fit(X_train)\n",
    "y_pred_ocsvm = one_class_svm.predict(X_train)\n",
    "y_pred_ocsvm\n",
    "y_pred_ocsvm_test = one_class_svm.predict(X_test)"
   ]
  },
  {
   "cell_type": "code",
   "execution_count": 33,
   "id": "2756aa27",
   "metadata": {},
   "outputs": [
    {
     "name": "stdout",
     "output_type": "stream",
     "text": [
      "LOF detected 813 anomalies\n",
      "LOF detected on the test set 271 anomalies\n",
      "Isolation Forest detected 28 anomalies\n",
      "Isolation Forest detected on the test set 10 anomalies\n",
      "One-Class SVM detected 26 anomalies\n",
      "One-Class SVM detected on the test set 5 anomalies\n"
     ]
    }
   ],
   "source": [
    "# Print the number of anomalies\n",
    "print(\"LOF detected\", np.sum(y_pred_lof == -1), \"anomalies\")\n",
    "print(\"LOF detected on the test set\", np.sum(y_pred_lof_test == -1), \"anomalies\")\n",
    "print(\"Isolation Forest detected\", np.sum(y_pred_if == -1), \"anomalies\")\n",
    "print(\"Isolation Forest detected on the test set\", np.sum(y_pred_if_test == -1), \"anomalies\")\n",
    "print(\"One-Class SVM detected\", np.sum(y_pred_ocsvm == -1), \"anomalies\")\n",
    "print(\"One-Class SVM detected on the test set\", np.sum(y_pred_ocsvm_test == -1), \"anomalies\")"
   ]
  },
  {
   "cell_type": "code",
   "execution_count": 34,
   "id": "92bec42a",
   "metadata": {},
   "outputs": [
    {
     "data": {
      "text/plain": [
       "2709"
      ]
     },
     "execution_count": 34,
     "metadata": {},
     "output_type": "execute_result"
    }
   ],
   "source": [
    "len(labels_list_train)"
   ]
  },
  {
   "cell_type": "markdown",
   "id": "df11b02b",
   "metadata": {},
   "source": [
    "### Find best algorithems based on the improvment in the clustering"
   ]
  },
  {
   "cell_type": "code",
   "execution_count": 1,
   "id": "7be89816",
   "metadata": {},
   "outputs": [
    {
     "ename": "NameError",
     "evalue": "name 'y_pred_lof' is not defined",
     "output_type": "error",
     "traceback": [
      "\u001b[1;31m---------------------------------------------------------------------------\u001b[0m",
      "\u001b[1;31mNameError\u001b[0m                                 Traceback (most recent call last)",
      "Cell \u001b[1;32mIn [1], line 2\u001b[0m\n\u001b[0;32m      1\u001b[0m mutual_information_ad \u001b[38;5;241m=\u001b[39m []\n\u001b[1;32m----> 2\u001b[0m methods_ad \u001b[38;5;241m=\u001b[39m [\u001b[43my_pred_lof\u001b[49m, y_pred_if, y_pred_ocsvm]\n\u001b[0;32m      3\u001b[0m names \u001b[38;5;241m=\u001b[39m [\u001b[38;5;124m\"\u001b[39m\u001b[38;5;124mLOF\u001b[39m\u001b[38;5;124m\"\u001b[39m, \u001b[38;5;124m\"\u001b[39m\u001b[38;5;124mIsolation Forest\u001b[39m\u001b[38;5;124m\"\u001b[39m, \u001b[38;5;124m\"\u001b[39m\u001b[38;5;124mOne Class SVM\u001b[39m\u001b[38;5;124m\"\u001b[39m]\n\u001b[0;32m      5\u001b[0m \u001b[38;5;28;01mfor\u001b[39;00m i, anom, name, rg \u001b[38;5;129;01min\u001b[39;00m \u001b[38;5;28mzip\u001b[39m(\u001b[38;5;28mrange\u001b[39m(\u001b[38;5;241m1\u001b[39m,\u001b[38;5;241m4\u001b[39m), methods_ad, names, [(\u001b[38;5;241m29\u001b[39m, \u001b[38;5;241m28\u001b[39m), (\u001b[38;5;241m29\u001b[39m, \u001b[38;5;241m28\u001b[39m), (\u001b[38;5;241m41\u001b[39m, \u001b[38;5;241m20\u001b[39m)]):\n",
      "\u001b[1;31mNameError\u001b[0m: name 'y_pred_lof' is not defined"
     ]
    }
   ],
   "source": [
    "mutual_information_ad = []\n",
    "methods_ad = [y_pred_lof, y_pred_if, y_pred_ocsvm]\n",
    "names = [\"LOF\", \"Isolation Forest\", \"One Class SVM\"]\n",
    "\n",
    "for i, anom, name, rg in zip(range(1,4), methods_ad, names, [(29, 28), (29, 28), (41, 20)]):\n",
    "    X_train_clean = X_train[anom != -1]\n",
    "    kmedoids = KMedoids(n_clusters=k, metric='euclidean').fit(X_train_clean)\n",
    "    clusters_kmedoids = kmedoids.predict(X_train_clean)\n",
    "\n",
    "    mutual_information_ad.append(calculate_mi_on_groups(clusters_kmedoids, np.array(labels_list_train)[anom != -1], rg[0], rg[1]))"
   ]
  },
  {
   "cell_type": "code",
   "execution_count": 37,
   "id": "31a385ad",
   "metadata": {},
   "outputs": [
    {
     "name": "stdout",
     "output_type": "stream",
     "text": [
      "mutual information between LOF and the ground truth is 0.9045066787031134\n",
      "mutual information between Isolation Forest and the ground truth is 0.9817749673896651\n",
      "mutual information between One Class SVM and the ground truth is 0.909835575103278\n"
     ]
    }
   ],
   "source": [
    "for name, score in zip(names, mutual_information_ad):\n",
    "    print(f\"mutual information between {name} and the ground truth is {np.mean(score)}\")"
   ]
  },
  {
   "cell_type": "code",
   "execution_count": 38,
   "id": "c9c18e72",
   "metadata": {},
   "outputs": [
    {
     "name": "stdout",
     "output_type": "stream",
     "text": [
      "t-statistic = 2.25, p-value = 1.11e-01 = 0.11058\n"
     ]
    }
   ],
   "source": [
    "#Anova test\n",
    "from scipy.stats import f_oneway\n",
    "# perform ANOVA test\n",
    "t_statistic, p_value = f_oneway(*mutual_information_ad)\n",
    "\n",
    "print(\"t-statistic = {:.2f}, p-value = {:.2e} = {:.5f}\".format(t_statistic, p_value, p_value))"
   ]
  },
  {
   "cell_type": "code",
   "execution_count": 39,
   "id": "6cce9bf3",
   "metadata": {},
   "outputs": [
    {
     "name": "stdout",
     "output_type": "stream",
     "text": [
      "t test between LOF and One Class SVM\n",
      "t-statistic = nan, p-value = nan = nan\n",
      " \n",
      "t test between LOF and Isolation Forest\n",
      "t-statistic = nan, p-value = nan = nan\n",
      " \n",
      "t test between Isolation Forest and One Class SVM\n",
      "t-statistic = nan, p-value = nan = nan\n",
      " \n"
     ]
    },
    {
     "name": "stderr",
     "output_type": "stream",
     "text": [
      "C:\\Users\\yuval\\AppData\\Local\\Temp\\ipykernel_17112\\3590118846.py:6: RuntimeWarning: Precision loss occurred in moment calculation due to catastrophic cancellation. This occurs when the data are nearly identical. Results may be unreliable.\n",
      "  t_statistic, p_value = ttest_ind(mutual_informations[i], mutual_informations[j])\n",
      "C:\\Users\\yuval\\anaconda3\\envs\\APPLIED_MACHINE_LEARING\\lib\\site-packages\\scipy\\stats\\_stats_py.py:1214: RuntimeWarning: divide by zero encountered in divide\n",
      "  var *= np.divide(n, n-ddof)  # to avoid error on division by zero\n",
      "C:\\Users\\yuval\\anaconda3\\envs\\APPLIED_MACHINE_LEARING\\lib\\site-packages\\scipy\\stats\\_stats_py.py:1214: RuntimeWarning: invalid value encountered in scalar multiply\n",
      "  var *= np.divide(n, n-ddof)  # to avoid error on division by zero\n"
     ]
    }
   ],
   "source": [
    "from scipy.stats import ttest_ind\n",
    "\n",
    "dueos = [(0,2), (0,1), (1,2)]\n",
    "for i, j in dueos:\n",
    "    # perform t-test\n",
    "    t_statistic, p_value = ttest_ind(mutual_informations[i], mutual_informations[j])\n",
    "\n",
    "    # print the result\n",
    "    print(f\"t test between {names[i]} and {names[j]}\")\n",
    "    print(\"t-statistic = {:.2f}, p-value = {:.2e} = {:.5f}\".format(t_statistic, p_value, p_value))\n",
    "    print(\" \")"
   ]
  },
  {
   "cell_type": "markdown",
   "id": "79534371",
   "metadata": {},
   "source": [
    "**based on the statistical test, the _IF_ is the best algorithem**\n"
   ]
  },
  {
   "cell_type": "markdown",
   "id": "b7bd50c5",
   "metadata": {},
   "source": [
    "### Check if there is an improvment in the clustering with LOF"
   ]
  },
  {
   "cell_type": "code",
   "execution_count": 40,
   "id": "c2b2a0b1",
   "metadata": {},
   "outputs": [
    {
     "name": "stdout",
     "output_type": "stream",
     "text": [
      "mutual information between WITH AD and the ground truth is 0.8400488398061898\n",
      "mutual information between NO AD and the ground truth is 0.8986855616285595\n"
     ]
    }
   ],
   "source": [
    "#train the with AD model\n",
    "X_test_clean = X_test[y_pred_lof_test != -1]\n",
    "kmedoids_ad = KMedoids(n_clusters=k, metric='euclidean')\n",
    "kmedoids_ad.fit(X_train)\n",
    "clusters_ad = kmedoids.predict(X_test_clean)\n",
    "\n",
    "count = 0\n",
    "clusters_with_anomalys = []\n",
    "for i in range(0, len(X_test)):\n",
    "    if y_pred_lof_test[i] == -1:\n",
    "        clusters_with_anomalys.append(-1)\n",
    "        count+=1\n",
    "    else:\n",
    "        clusters_with_anomalys.append(clusters_ad[i-count])\n",
    "    \n",
    "print(f\"mutual information between WITH AD and the ground truth is {np.mean(calculate_mi_on_groups(clusters_with_anomalys, labels_list_test, 43, 21))}\")\n",
    "\n",
    "#train the no AD model\n",
    "kmedoids_no_ad = KMedoids(n_clusters=k, metric='euclidean')\n",
    "kmedoids_no_ad.fit(X_train)\n",
    "clusters_no_ad = kmedoids.predict(X_test)\n",
    "\n",
    "print(f\"mutual information between NO AD and the ground truth is {np.mean(calculate_mi_on_groups(clusters_no_ad, labels_list_test, 43, 21))}\")\n"
   ]
  },
  {
   "cell_type": "code",
   "execution_count": 41,
   "id": "0f2db071",
   "metadata": {},
   "outputs": [
    {
     "name": "stdout",
     "output_type": "stream",
     "text": [
      "t test between WITH AD and NO AD\n",
      "t-statistic = -1.65, p-value = 1.03e-01 = 0.10325\n"
     ]
    }
   ],
   "source": [
    "from scipy.stats import ttest_ind\n",
    "\n",
    "# perform t-test\n",
    "t_statistic, p_value = ttest_ind(calculate_mi_on_groups(clusters_with_anomalys, labels_list_test, 43, 21), calculate_mi_on_groups(clusters_no_ad, labels_list_test, 43, 21))\n",
    "\n",
    "# print the result\n",
    "print(f\"t test between WITH AD and NO AD\")\n",
    "print(\"t-statistic = {:.2f}, p-value = {:.2e} = {:.5f}\".format(t_statistic, p_value, p_value))\n"
   ]
  },
  {
   "cell_type": "markdown",
   "id": "a3830448",
   "metadata": {},
   "source": [
    "**based on the statistical test, the IF _does not_ improve the clustering**"
   ]
  },
  {
   "cell_type": "markdown",
   "id": "61464379",
   "metadata": {},
   "source": [
    "## PLOTS"
   ]
  },
  {
   "cell_type": "code",
   "execution_count": 46,
   "id": "212fc2ee",
   "metadata": {},
   "outputs": [],
   "source": [
    "def plot_clusters(points, true_labels, centroids, model_labels):\n",
    "    fig, ax = plt.subplots(1, figsize=(6,6))\n",
    "    # plot data\n",
    "    plt.scatter(points[:, 0], points[:, 1], c=get_colors_model(model_labels), alpha=0.5, s=80)\n",
    "\n",
    "    # plot true labels\n",
    "    plt.scatter(points[:, 0], points[:, 1], c=get_colors_true(true_labels),alpha=1, s=1)\n",
    "\n",
    "    # plot centroids\n",
    "    plt.scatter(centroids[:, 0], centroids[:, 1], marker='^', c='black', s=100)\n",
    "\n",
    "#     # legend\n",
    "#     legend_elements = [plt.Line2D([0], [0], marker='o', color='w', label='Cluster {}'.format(i+1),\n",
    "#                                    markerfacecolor=get_colors([i+1])[0], markersize=5) for i in range(len(set(true_labels)))]\n",
    "#     plt.legend(handles=legend_elements, loc='upper right', ncol=2)\n",
    "\n",
    "    # set x and y limits\n",
    "    x_min, x_max = points[:, 0].min(), points[:, 0].max()\n",
    "    y_min, y_max = points[:, 1].min(), points[:, 1].max()\n",
    "    x_range = x_max - x_min\n",
    "    y_range = y_max - y_min\n",
    "    plt.xlim(x_min - 0.1 * x_range, x_max + 0.1 * x_range)\n",
    "    plt.ylim(y_min - 0.1 * y_range, y_max + 0.1 * y_range)\n",
    "\n",
    "    # title and labels\n",
    "    plt.xlabel('TSNE D1')\n",
    "    plt.ylabel('TSNE D2')\n",
    "\n",
    "    plt.show()"
   ]
  },
  {
   "cell_type": "code",
   "execution_count": 47,
   "id": "7e3b7f64",
   "metadata": {},
   "outputs": [],
   "source": [
    "def get_colors_model(labels):\n",
    "    colors = []\n",
    "    colors_dict = {1:\"fuchsia\", 2:\"olive\",3:\"red\",4:\"brown\",5:\"blue\",6:\"purple\"}\n",
    "    for label in labels:\n",
    "        colors.append(colors_dict[label])\n",
    "    return colors\n",
    "\n",
    "def get_colors_true(labels):\n",
    "    colors = []\n",
    "    colors_dict = {1:\"darkorchid\", 2:\"green\",3:\"khaki\",4:\"cyan\",5:\"orange\",6:\"pink\"}\n",
    "    for label in labels:\n",
    "        colors.append(colors_dict[label])\n",
    "    return colors"
   ]
  },
  {
   "cell_type": "code",
   "execution_count": 48,
   "id": "d099ae5f",
   "metadata": {},
   "outputs": [],
   "source": [
    "def replace_labels(labels_list_test, A):\n",
    "    for i in range(len(labels_list_test)):\n",
    "        labels_list_test[i] = A[labels_list_test[i]%len(A)]\n",
    "    return labels_list_test"
   ]
  },
  {
   "cell_type": "code",
   "execution_count": 49,
   "id": "9f152bfc",
   "metadata": {},
   "outputs": [
    {
     "name": "stdout",
     "output_type": "stream",
     "text": [
      "720\n"
     ]
    }
   ],
   "source": [
    "from itertools import permutations\n",
    "\n",
    "def generate_lists():\n",
    "    all_lists = []\n",
    "    for perm in permutations([1, 2, 3, 4, 5, 6]):\n",
    "        all_lists.append(list(perm))\n",
    "    return all_lists\n",
    "\n",
    "lists = generate_lists()\n",
    "print(len(lists))"
   ]
  },
  {
   "cell_type": "code",
   "execution_count": 50,
   "id": "cc6b5755",
   "metadata": {},
   "outputs": [],
   "source": [
    "from sklearn.metrics import accuracy_score\n",
    "\n",
    "for x in lists:\n",
    "    accuracy = accuracy_score(replace_labels(labels_list_test,x), clusters_no_ad)\n",
    "    \n",
    "    if 0.44 <= accuracy:\n",
    "        print(\"Accuracy score: \", accuracy, \" x: \", x)"
   ]
  },
  {
   "cell_type": "code",
   "execution_count": 54,
   "id": "dd80fd70",
   "metadata": {},
   "outputs": [
    {
     "name": "stdout",
     "output_type": "stream",
     "text": [
      "(904, 2)\n"
     ]
    },
    {
     "name": "stderr",
     "output_type": "stream",
     "text": [
      "C:\\Users\\yuval\\AppData\\Local\\Temp\\ipykernel_17112\\1877232846.py:28: MatplotlibDeprecationWarning: The get_cmap function was deprecated in Matplotlib 3.7 and will be removed two minor releases later. Use ``matplotlib.colormaps[name]`` or ``matplotlib.colormaps.get_cmap(obj)`` instead.\n",
      "  new_cmap = plt.cm.get_cmap(cmap, len(unique_colors))\n"
     ]
    },
    {
     "data": {
      "image/png": "[encoded data removed]",
      "text/plain": [
       "<Figure size 640x480 with 1 Axes>"
      ]
     },
     "metadata": {},
     "output_type": "display_data"
    }
   ],
   "source": [
    "import numpy as np\n",
    "import matplotlib.pyplot as plt\n",
    "from matplotlib.lines import Line2D\n",
    "\n",
    "#KMedoids\n",
    "kmedoids = KMedoids(n_clusters=k, metric='euclidean')\n",
    "kmedoids.fit(X_train)\n",
    "clusters_kmedoids = kmedoids.predict(X_test)\n",
    "\n",
    "tsne = TSNE(n_components=2)\n",
    "X_test_tsne = tsne.fit_transform(X_test)\n",
    "print(X_test_tsne.shape)\n",
    "\n",
    "cmap = \"jet\"\n",
    "l = 904\n",
    "normalize = plt.Normalize(vmin=np.min(y_test[\"Gas\"]), vmax=np.max(y_test[\"Gas\"]))\n",
    "\n",
    "# Plot the data points with labels\n",
    "plt.scatter(X_test_tsne[:, 0][0:l], X_test_tsne[:, 1][0:l], c=[int(x) for x in list(y_test[0:l][\"Gas\"])], cmap=cmap, norm=normalize, s=40, label='Ground truth')\n",
    "\n",
    "# Plot the data points with cluster labels\n",
    "plt.scatter(X_test_tsne[:, 0][0:l], X_test_tsne[:, 1][0:l], c=clusters_kmedoids[0:l], cmap=cmap, norm=normalize, s=1, label='Model generated')\n",
    "\n",
    "# Get the unique colors used in the plot\n",
    "unique_colors = np.unique(clusters_kmedoids[0:l])\n",
    "\n",
    "# Create a new color map using only the unique colors\n",
    "new_cmap = plt.cm.get_cmap(cmap, len(unique_colors))\n",
    "\n",
    "\n",
    "# Create empty proxy artists for the legend\n",
    "legend_elements = [Line2D([0], [0], marker='o', color='w', label='Ground truth', markerfacecolor='none', markersize=8, markeredgecolor='k'),\n",
    "                   Line2D([0], [0], marker='o', color='w', label='Model generated', markerfacecolor='none', markersize=3, markeredgecolor='k')]\n",
    "\n",
    "# Add legend with labels and no fill color\n",
    "plt.legend(handles=legend_elements, loc='upper left')\n",
    "\n",
    "# Add labels and title\n",
    "plt.xlabel('TSNE 1')\n",
    "plt.ylabel('TSNE 2')\n",
    "plt.savefig(f'gas_resualts_plot_{cmap}.png', dpi=300, bbox_inches='tight')\n",
    "# Show the plot\n",
    "plt.show()"
   ]
  },
  {
   "cell_type": "code",
   "execution_count": 55,
   "id": "67f22270",
   "metadata": {},
   "outputs": [],
   "source": [
    "import numpy as np\n",
    "import matplotlib.pyplot as plt\n",
    "from matplotlib import cm\n",
    "from sklearn.neighbors import LocalOutlierFactor\n",
    "\n",
    "def plot_lof_anomalies(data):\n",
    "    # Fit the LOF model to the data\n",
    "    lof = LocalOutlierFactor(n_neighbors=20)\n",
    "    y_pred = lof.fit_predict(data)\n",
    "    scores = -lof.negative_outlier_factor_\n",
    "\n",
    "    # Scale the scores to the range [0, 1]\n",
    "    scores = (scores - np.min(scores)) / (np.max(scores) - np.min(scores))\n",
    "\n",
    "    # Count the number of points in each score bin\n",
    "    bins = np.linspace(0, 1, num=100)\n",
    "    hist, _ = np.histogram(scores, bins=bins)\n",
    "\n",
    "    # Plot the anomaly score histogram as a bar plot\n",
    "    plt.bar(bins[:-1], hist, width=(bins[1]-bins[0]), align='edge', color=cm.Accent(0.5), edgecolor='black')\n",
    "    plt.xlabel('Anomaly Score')\n",
    "    plt.ylabel('Number of Points')\n",
    "    \n",
    "    # Add a black dashed line at the 10% mark\n",
    "    percentile_1 = np.percentile(scores, 99)\n",
    "    percentile_10 = np.percentile(scores, 90)\n",
    "    plt.axvline(x=percentile_1, linestyle='--', color=\"red\", label=\"1%\")\n",
    "    plt.axvline(x=percentile_10, linestyle='--', color='fuchsia', label=\"10%\")\n",
    "    \n",
    "    plt.legend()\n",
    "    \n",
    "    plt.savefig(\"AD_plot_gas.png\", dpi=300, bbox_inches='tight')\n",
    "    plt.show()\n"
   ]
  },
  {
   "cell_type": "code",
   "execution_count": 56,
   "id": "c1448ab1",
   "metadata": {},
   "outputs": [
    {
     "data": {
      "image/png": "[encoded data removed]",
      "text/plain": [
       "<Figure size 640x480 with 1 Axes>"
      ]
     },
     "metadata": {},
     "output_type": "display_data"
    }
   ],
   "source": [
    "plot_lof_anomalies(X_train)"
   ]
  },
  {
   "cell_type": "code",
   "execution_count": 69,
   "id": "b7c34064",
   "metadata": {},
   "outputs": [],
   "source": [
    "import numpy as np\n",
    "import matplotlib.pyplot as plt\n",
    "from sklearn.metrics import silhouette_score, silhouette_samples\n",
    "from sklearn_extra.cluster import KMedoids\n",
    "from matplotlib.colors import ListedColormap\n",
    "\n",
    "def k_medoids_silhouette(data, labels, k):\n",
    "    # Create KMedoids model with k clusters\n",
    "    model = KMedoids(n_clusters=k, random_state=42)\n",
    "    model.fit(data)\n",
    "    \n",
    "    # Get cluster labels and compute silhouette scores\n",
    "    cluster_labels = model.labels_\n",
    "    silhouette_avg = silhouette_score(data, cluster_labels)\n",
    "    silhouette_values = silhouette_samples(data, cluster_labels)\n",
    "    \n",
    "    # Set up colormap and plot silhouette scores\n",
    "    cmap = ListedColormap(plt.cm.RdYlBu(np.linspace(0, 1, k)))\n",
    "    y_lower = 10\n",
    "    for i in range(k):\n",
    "        ith_cluster_silhouette_values = silhouette_values[cluster_labels == i]\n",
    "        ith_cluster_silhouette_values.sort()\n",
    "        size_cluster_i = ith_cluster_silhouette_values.shape[0]\n",
    "        y_upper = y_lower + size_cluster_i\n",
    "        color = cmap(i)\n",
    "        plt.fill_betweenx(np.arange(y_lower, y_upper),\n",
    "                          0,\n",
    "                          ith_cluster_silhouette_values,\n",
    "                          facecolor=color,\n",
    "                          edgecolor=color,\n",
    "                          alpha=0.7)\n",
    "        plt.text(-0.05, y_lower + 0.5 * size_cluster_i, str(i+1))\n",
    "        y_lower = y_upper + 10\n",
    "    \n",
    "    plt.yticks([])\n",
    "    plt.xticks([-0.1, 0, 0.2, 0.4, 0.6, 0.8, 1])\n",
    "    plt.xlabel(\"Silhouette Coefficient\")\n",
    "    plt.ylabel(\"Cluster\")\n",
    "    plt.savefig(\"Silhouette_plot_gas.png\", dpi=300, bbox_inches='tight')\n",
    "    plt.show()\n"
   ]
  },
  {
   "cell_type": "code",
   "execution_count": 70,
   "id": "6f83e80b",
   "metadata": {},
   "outputs": [
    {
     "data": {
      "image/png": "[encoded data removed]",
      "text/plain": [
       "<Figure size 640x480 with 1 Axes>"
      ]
     },
     "metadata": {},
     "output_type": "display_data"
    }
   ],
   "source": [
    "k_medoids_silhouette(X_test, y_test, 6)"
   ]
  }
 ],
 "metadata": {
  "kernelspec": {
   "display_name": "Python 3 (ipykernel)",
   "language": "python",
   "name": "python3"
  },
  "language_info": {
   "codemirror_mode": {
    "name": "ipython",
    "version": 3
   },
   "file_extension": ".py",
   "mimetype": "text/x-python",
   "name": "python",
   "nbconvert_exporter": "python",
   "pygments_lexer": "ipython3",
   "version": "3.8.15"
  }
 },
 "nbformat": 4,
 "nbformat_minor": 5
}
