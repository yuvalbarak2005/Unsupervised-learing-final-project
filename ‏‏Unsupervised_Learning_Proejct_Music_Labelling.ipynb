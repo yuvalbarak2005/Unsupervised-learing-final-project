{
 "cells": [
  {
   "cell_type": "code",
   "execution_count": 451,
   "metadata": {},
   "outputs": [],
   "source": [
    "import os\n",
    "import IPython.display as ipd\n",
    "import numpy as np\n",
    "import pandas as pd\n",
    "import matplotlib.pyplot as plt\n",
    "import seaborn as sns\n",
    "from sklearn.model_selection import train_test_split\n",
    "\n",
    "from sklearn.mixture import GaussianMixture\n",
    "from sklearn.decomposition import PCA, FastICA\n",
    "from sklearn.manifold import TSNE\n",
    "from sklearn.cluster import KMeans, AgglomerativeClustering \n",
    "from sklearn.cluster import MiniBatchKMeans\n",
    "from sklearn.svm import OneClassSVM\n",
    "from sklearn import metrics\n",
    "\n",
    "from sklearn.cluster import KMeans\n",
    "from sklearn.metrics import silhouette_score, accuracy_score\n",
    "import matplotlib.cm as cm\n",
    "import matplotlib.ticker as ticker\n"
   ]
  },
  {
   "cell_type": "code",
   "execution_count": 452,
   "metadata": {},
   "outputs": [
    {
     "name": "stderr",
     "output_type": "stream",
     "text": [
      "C:\\Users\\yuval\\AppData\\Local\\Temp\\ipykernel_7416\\916261527.py:2: DtypeWarning: Columns (0,1,5,6,8,12,18,20,21,22,24,33,34,38,39,44,47,49) have mixed types. Specify dtype option on import or set low_memory=False.\n",
      "  tracks = pd.read_csv('tracks.csv')\n"
     ]
    }
   ],
   "source": [
    "#read data - tracks\n",
    "tracks = pd.read_csv('tracks.csv')\n",
    "tracks_ = pd.DataFrame(tracks[2:])\n",
    "#tracks.head()\n",
    "\n",
    "col_names_lst = list(tracks[:1].values[0])\n",
    "col_names_lst[0] = \"track_id\"\n",
    "names = dict()\n",
    "for old, new in zip(list(tracks_), col_names_lst):\n",
    "    names[old] = new\n",
    "tracks_.rename(columns=names, inplace=True)\n",
    "tracks_.set_index('track_id', inplace=True)\n",
    "tracks_ = tracks_.loc[:,~tracks_.columns.duplicated()].copy()"
   ]
  },
  {
   "cell_type": "code",
   "execution_count": 453,
   "metadata": {},
   "outputs": [],
   "source": [
    "#date to int:\n",
    "from datetime import datetime\n",
    "l1 = list(tracks_[\"date_created\"])\n",
    "l2 = list(tracks_[\"date_released\"])\n",
    "l3 = list(tracks_[\"active_year_begin\"])\n",
    "l4 = list(tracks_[\"active_year_end\"])\n",
    "l5 = list(tracks_[\"date_recorded\"])\n",
    "\n",
    "for i in range(len(l1)):\n",
    "    if type(l1[i]) == type(\"\"):\n",
    "        dt_time = datetime.strptime(l1[i], '%Y-%m-%d %H:%M:%S')\n",
    "        l1[i] = 10**4*dt_time.year + 10**2*dt_time.month + dt_time.day\n",
    "    if type(l2[i]) == type(\"\"):\n",
    "        dt_time = datetime.strptime(l2[i], '%Y-%m-%d %H:%M:%S')\n",
    "        l2[i] = 10**4*dt_time.year + 10**2*dt_time.month + dt_time.day\n",
    "    if type(l3[i]) == type(\"\"):\n",
    "        dt_time = datetime.strptime(l3[i], '%Y-%m-%d %H:%M:%S')\n",
    "        l3[i] = 10**4*dt_time.year + 10**2*dt_time.month + dt_time.day\n",
    "    if type(l4[i]) == type(\"\"):\n",
    "        dt_time = datetime.strptime(l4[i], '%Y-%m-%d %H:%M:%S')\n",
    "        l4[i] = 10**4*dt_time.year + 10**2*dt_time.month + dt_time.day\n",
    "    if type(l5[i]) == type(\"\"):\n",
    "        dt_time = datetime.strptime(l5[i], '%Y-%m-%d %H:%M:%S')\n",
    "        l5[i] = 10**4*dt_time.year + 10**2*dt_time.month + dt_time.day\n",
    "        \n",
    "tracks_[\"date_created\"] = l1\n",
    "tracks_[\"date_released\"] = l2\n",
    "tracks_[\"active_year_begin\"] = l3\n",
    "tracks_[\"active_year_end\"] = l4\n",
    "tracks_[\"date_recorded\"] = l5"
   ]
  },
  {
   "cell_type": "code",
   "execution_count": 454,
   "metadata": {},
   "outputs": [],
   "source": [
    "#delete rows without a ground truth (genre)\n",
    "l = list(pd.read_csv('genres.csv')[\"title\"])\n",
    "\n",
    "delete = []\n",
    "\n",
    "for indx in tracks_.index.values.tolist():\n",
    "    row = tracks_.loc[indx]\n",
    "    if row[\"genre_top\"] not in l:\n",
    "        delete.append(indx)\n",
    "tracks_.drop(delete, inplace = True)\n",
    "x = 1"
   ]
  },
  {
   "cell_type": "code",
   "execution_count": 455,
   "metadata": {},
   "outputs": [],
   "source": [
    "tracks_ = tracks_.drop([\"latitude\",\"longitude\",\"engineer\", \"date_recorded\", \"title\", \"information\", \"tags\", \"producer\", \"type\", \"associated_labels\", \"active_year_begin\", \"bio\", \"location\", \"members\", \"name\", \"related_projects\", \"website\", \"wikipedia_page\", \"split\", \"subset\", \"composer\", \"genres\", \"genres_all\", \"language_code\", \"license\", \"lyricist\", \"publisher\", \"active_year_end\"], axis=1).drop_duplicates(keep='first')"
   ]
  },
  {
   "cell_type": "code",
   "execution_count": 456,
   "metadata": {},
   "outputs": [],
   "source": [
    "cols = list(tracks_.columns)\n",
    "a, b = cols.index('genre_top'), cols.index('number')\n",
    "cols[b], cols[a] = cols[a], cols[b]\n",
    "tracks_ = tracks_[cols]"
   ]
  },
  {
   "cell_type": "code",
   "execution_count": 457,
   "metadata": {},
   "outputs": [
    {
     "data": {
      "text/plain": [
       "array([ 1,  2,  3,  4,  5,  6,  7,  8,  9, 10, 11, 12, 13, 14, 15, 16])"
      ]
     },
     "execution_count": 457,
     "metadata": {},
     "output_type": "execute_result"
    }
   ],
   "source": [
    "def get_number_by_genre(genre):\n",
    "    genres = [\n",
    "        'Blues',\n",
    "        'Classical',\n",
    "        'Country',\n",
    "        'Easy Listening',\n",
    "        'Electronic',\n",
    "        'Experimental',\n",
    "        'Folk',\n",
    "        'Hip-Hop',\n",
    "        'Instrumental',\n",
    "        'International',\n",
    "        'Jazz',\n",
    "        'Old-Time / Historic',\n",
    "        'Pop',\n",
    "        'Rock',\n",
    "        'Soul-RnB',\n",
    "        'Spoken',\n",
    "        ]\n",
    "    return genres.index(genre)+1\n",
    "\n",
    "tracks_ = tracks_.dropna()\n",
    "Y = pd.DataFrame(columns=['Label'])\n",
    "Y[['Label']] = tracks_[['genre_top']]\n",
    "X = tracks_.drop('genre_top', axis=1)\n",
    "Y = [get_number_by_genre(genre) for genre in Y['Label']]\n",
    "np.unique(Y)"
   ]
  },
  {
   "cell_type": "code",
   "execution_count": 458,
   "metadata": {},
   "outputs": [
    {
     "name": "stderr",
     "output_type": "stream",
     "text": [
      "C:\\Users\\yuval\\AppData\\Local\\Temp\\ipykernel_7416\\1569167404.py:3: FutureWarning: The default value of numeric_only in DataFrame.mean is deprecated. In a future version, it will default to False. In addition, specifying 'numeric_only=None' is deprecated. Select only valid columns or specify the value of numeric_only to silence this warning.\n",
      "  X_train.fillna(X_train.mean())\n"
     ]
    },
    {
     "data": {
      "text/plain": [
       "(8378, 11)"
      ]
     },
     "execution_count": 458,
     "metadata": {},
     "output_type": "execute_result"
    }
   ],
   "source": [
    "l = 4000\n",
    "X_train, X_test, y_train, y_test = train_test_split(X,Y,random_state=42, test_size=0.25, shuffle=True)\n",
    "X_train.fillna(X_train.mean())\n",
    "X_test.shape"
   ]
  },
  {
   "cell_type": "code",
   "execution_count": 434,
   "metadata": {},
   "outputs": [
    {
     "name": "stderr",
     "output_type": "stream",
     "text": [
      "C:\\Users\\yuval\\anaconda3\\envs\\APPLIED_MACHINE_LEARING\\lib\\site-packages\\sklearn\\cluster\\_kmeans.py:870: FutureWarning: The default value of `n_init` will change from 10 to 'auto' in 1.4. Set the value of `n_init` explicitly to suppress the warning\n",
      "  warnings.warn(\n",
      "C:\\Users\\yuval\\anaconda3\\envs\\APPLIED_MACHINE_LEARING\\lib\\site-packages\\sklearn\\cluster\\_kmeans.py:870: FutureWarning: The default value of `n_init` will change from 10 to 'auto' in 1.4. Set the value of `n_init` explicitly to suppress the warning\n",
      "  warnings.warn(\n",
      "C:\\Users\\yuval\\anaconda3\\envs\\APPLIED_MACHINE_LEARING\\lib\\site-packages\\sklearn\\cluster\\_kmeans.py:870: FutureWarning: The default value of `n_init` will change from 10 to 'auto' in 1.4. Set the value of `n_init` explicitly to suppress the warning\n",
      "  warnings.warn(\n",
      "C:\\Users\\yuval\\anaconda3\\envs\\APPLIED_MACHINE_LEARING\\lib\\site-packages\\sklearn\\cluster\\_kmeans.py:870: FutureWarning: The default value of `n_init` will change from 10 to 'auto' in 1.4. Set the value of `n_init` explicitly to suppress the warning\n",
      "  warnings.warn(\n",
      "C:\\Users\\yuval\\anaconda3\\envs\\APPLIED_MACHINE_LEARING\\lib\\site-packages\\sklearn\\cluster\\_kmeans.py:870: FutureWarning: The default value of `n_init` will change from 10 to 'auto' in 1.4. Set the value of `n_init` explicitly to suppress the warning\n",
      "  warnings.warn(\n",
      "C:\\Users\\yuval\\anaconda3\\envs\\APPLIED_MACHINE_LEARING\\lib\\site-packages\\sklearn\\cluster\\_kmeans.py:870: FutureWarning: The default value of `n_init` will change from 10 to 'auto' in 1.4. Set the value of `n_init` explicitly to suppress the warning\n",
      "  warnings.warn(\n",
      "C:\\Users\\yuval\\anaconda3\\envs\\APPLIED_MACHINE_LEARING\\lib\\site-packages\\sklearn\\cluster\\_kmeans.py:870: FutureWarning: The default value of `n_init` will change from 10 to 'auto' in 1.4. Set the value of `n_init` explicitly to suppress the warning\n",
      "  warnings.warn(\n",
      "C:\\Users\\yuval\\anaconda3\\envs\\APPLIED_MACHINE_LEARING\\lib\\site-packages\\sklearn\\cluster\\_kmeans.py:870: FutureWarning: The default value of `n_init` will change from 10 to 'auto' in 1.4. Set the value of `n_init` explicitly to suppress the warning\n",
      "  warnings.warn(\n",
      "C:\\Users\\yuval\\anaconda3\\envs\\APPLIED_MACHINE_LEARING\\lib\\site-packages\\sklearn\\cluster\\_kmeans.py:870: FutureWarning: The default value of `n_init` will change from 10 to 'auto' in 1.4. Set the value of `n_init` explicitly to suppress the warning\n",
      "  warnings.warn(\n",
      "C:\\Users\\yuval\\anaconda3\\envs\\APPLIED_MACHINE_LEARING\\lib\\site-packages\\sklearn\\cluster\\_kmeans.py:870: FutureWarning: The default value of `n_init` will change from 10 to 'auto' in 1.4. Set the value of `n_init` explicitly to suppress the warning\n",
      "  warnings.warn(\n",
      "C:\\Users\\yuval\\anaconda3\\envs\\APPLIED_MACHINE_LEARING\\lib\\site-packages\\sklearn\\cluster\\_kmeans.py:870: FutureWarning: The default value of `n_init` will change from 10 to 'auto' in 1.4. Set the value of `n_init` explicitly to suppress the warning\n",
      "  warnings.warn(\n",
      "C:\\Users\\yuval\\anaconda3\\envs\\APPLIED_MACHINE_LEARING\\lib\\site-packages\\sklearn\\cluster\\_kmeans.py:870: FutureWarning: The default value of `n_init` will change from 10 to 'auto' in 1.4. Set the value of `n_init` explicitly to suppress the warning\n",
      "  warnings.warn(\n",
      "C:\\Users\\yuval\\anaconda3\\envs\\APPLIED_MACHINE_LEARING\\lib\\site-packages\\sklearn\\cluster\\_kmeans.py:870: FutureWarning: The default value of `n_init` will change from 10 to 'auto' in 1.4. Set the value of `n_init` explicitly to suppress the warning\n",
      "  warnings.warn(\n",
      "C:\\Users\\yuval\\anaconda3\\envs\\APPLIED_MACHINE_LEARING\\lib\\site-packages\\sklearn\\cluster\\_kmeans.py:870: FutureWarning: The default value of `n_init` will change from 10 to 'auto' in 1.4. Set the value of `n_init` explicitly to suppress the warning\n",
      "  warnings.warn(\n",
      "C:\\Users\\yuval\\anaconda3\\envs\\APPLIED_MACHINE_LEARING\\lib\\site-packages\\sklearn\\cluster\\_kmeans.py:870: FutureWarning: The default value of `n_init` will change from 10 to 'auto' in 1.4. Set the value of `n_init` explicitly to suppress the warning\n",
      "  warnings.warn(\n"
     ]
    }
   ],
   "source": [
    "km_sse_score=[]\n",
    "gmm_sse_score =[]\n",
    "hac_sse_score=[]\n",
    "for k in range (2,17):\n",
    "    # K-Means clustering\n",
    "    kmeans = KMeans(n_clusters=k, random_state=0).fit(X_train)\n",
    "    clusters_km = kmeans.predict(X_train)\n",
    "    km_sse_score.append(kmeans.inertia_/10000000)"
   ]
  },
  {
   "cell_type": "markdown",
   "metadata": {},
   "source": [
    "# ######################################################"
   ]
  },
  {
   "cell_type": "code",
   "execution_count": 488,
   "metadata": {},
   "outputs": [],
   "source": [
    "X_train, X_test, y_train, y_test = train_test_split(X[:20000], Y[:20000], test_size=0.25, random_state=42)"
   ]
  },
  {
   "cell_type": "code",
   "execution_count": 489,
   "metadata": {},
   "outputs": [
    {
     "data": {
      "text/plain": [
       "5000"
      ]
     },
     "execution_count": 489,
     "metadata": {},
     "output_type": "execute_result"
    }
   ],
   "source": [
    "len(X_test)"
   ]
  },
  {
   "cell_type": "markdown",
   "metadata": {},
   "source": [
    "## Clustering"
   ]
  },
  {
   "cell_type": "code",
   "execution_count": 525,
   "metadata": {},
   "outputs": [
    {
     "data": {
      "image/png": "[encoded data removed]",
      "text/plain": [
       "<Figure size 800x600 with 1 Axes>"
      ]
     },
     "metadata": {},
     "output_type": "display_data"
    }
   ],
   "source": [
    "import matplotlib.pyplot as plt\n",
    "import numpy as np\n",
    "\n",
    "# Create random data\n",
    "np.random.seed(42)\n",
    "X_train = np.random.randn(100, 2)\n",
    "\n",
    "# Calculate SSE for KMeans, MiniBatchKMeans, and KMedoids clustering algorithms\n",
    "sse_score_km = []\n",
    "sse_score_mbkm = []\n",
    "sse_score_kmed = []\n",
    "\n",
    "for k in range(1, 15):\n",
    "    kmeans = KMeans(n_clusters=k, random_state=42, n_init=\"auto\").fit(X_train)\n",
    "    kmeans.predict(X_train)\n",
    "    sse_score_km.append(kmeans.inertia_)\n",
    "\n",
    "    mbkm = MiniBatchKMeans(n_clusters=k, n_init=\"auto\").fit(X_train)\n",
    "    mbkm.predict(X_train)\n",
    "    sse_score_mbkm.append(mbkm.inertia_)\n",
    "\n",
    "    kmed = KMedoids(n_clusters=k).fit(X_train)\n",
    "    kmed.predict(X_train)\n",
    "    sse_score_kmed.append(kmed.inertia_)\n",
    "\n",
    "# Define the RdYlBd colormap\n",
    "colormap = plt.cm.RdYlBu_r\n",
    "\n",
    "# Plot SSE scores for KMeans, MiniBatchKMeans, and KMedoids clustering algorithms\n",
    "plt.figure(figsize=(8, 6))\n",
    "\n",
    "plt.plot(range(1, 15), sse_score_km, c=colormap(0.9), zorder=3, label=\"K means\")\n",
    "plt.plot(range(1, 15), sse_score_mbkm, c=colormap(0.1), zorder=3, label=\"mini batch K means\")\n",
    "plt.plot(range(1, 15), sse_score_kmed, c=colormap(0.7), zorder=3, label=\"K medoids\")\n",
    "\n",
    "\n",
    "# Add a black dashed line at x=6\n",
    "plt.axvline(x=8, linestyle='--', color='black')\n",
    "\n",
    "plt.xlabel('NUMBER OF CLUSTERS')\n",
    "plt.ylabel('SSE')\n",
    "plt.legend()\n",
    "\n",
    "# Save the plot as a PNG image\n",
    "plt.savefig('sse_scores.png', dpi=300)\n",
    "\n",
    "plt.show()\n"
   ]
  },
  {
   "cell_type": "code",
   "execution_count": 490,
   "metadata": {},
   "outputs": [],
   "source": [
    "\n",
    "tsne =PCA(2)\n",
    "tsne_emb_train = tsne.fit_transform(X_train)\n",
    "tsne_emb_test = tsne.fit_transform(X_test)"
   ]
  },
  {
   "cell_type": "code",
   "execution_count": 491,
   "metadata": {},
   "outputs": [],
   "source": [
    "from sklearn.cluster import KMeans, AgglomerativeClustering \n",
    "from sklearn_extra.cluster import KMedoids\n",
    "from sklearn.cluster import MiniBatchKMeans\n",
    "from sklearn.mixture import GaussianMixture\n",
    "from sklearn.cluster import SpectralClustering"
   ]
  },
  {
   "cell_type": "code",
   "execution_count": 492,
   "metadata": {},
   "outputs": [],
   "source": [
    "k=8"
   ]
  },
  {
   "cell_type": "code",
   "execution_count": 493,
   "metadata": {},
   "outputs": [],
   "source": [
    "#KMEANS\n",
    "kmeans = KMeans(n_clusters=k, random_state=42, n_init=\"auto\").fit(X_train)\n",
    "clusters_km = kmeans.predict(X_train)"
   ]
  },
  {
   "cell_type": "code",
   "execution_count": 494,
   "metadata": {},
   "outputs": [
    {
     "name": "stderr",
     "output_type": "stream",
     "text": [
      "C:\\Users\\yuval\\anaconda3\\envs\\APPLIED_MACHINE_LEARING\\lib\\site-packages\\sklearn\\cluster\\_kmeans.py:870: FutureWarning: The default value of `n_init` will change from 3 to 'auto' in 1.4. Set the value of `n_init` explicitly to suppress the warning\n",
      "  warnings.warn(\n"
     ]
    }
   ],
   "source": [
    "#minibatch k means\n",
    "mbkm = MiniBatchKMeans(n_clusters=k).fit(X_train)\n",
    "clusters_mbkm = mbkm.predict(X_train)"
   ]
  },
  {
   "cell_type": "code",
   "execution_count": 495,
   "metadata": {},
   "outputs": [],
   "source": [
    "#KMedoids\n",
    "kmedoids = KMedoids(n_clusters=k, metric='euclidean')\n",
    "kmedoids.fit(X_train)\n",
    "clusters_kmedoids = kmedoids.predict(X_train)"
   ]
  },
  {
   "cell_type": "code",
   "execution_count": 496,
   "metadata": {},
   "outputs": [],
   "source": [
    "#GMM\n",
    "gmm = GaussianMixture(n_components=k)\n",
    "gmm.fit(X_train)\n",
    "clusters_gmm = gmm.predict(X_train)"
   ]
  },
  {
   "cell_type": "code",
   "execution_count": 497,
   "metadata": {},
   "outputs": [
    {
     "name": "stderr",
     "output_type": "stream",
     "text": [
      "C:\\Users\\yuval\\anaconda3\\envs\\APPLIED_MACHINE_LEARING\\lib\\site-packages\\sklearn\\cluster\\_agglomerative.py:983: FutureWarning: Attribute `affinity` was deprecated in version 1.2 and will be removed in 1.4. Use `metric` instead\n",
      "  warnings.warn(\n"
     ]
    }
   ],
   "source": [
    "hierarchical_clustering = AgglomerativeClustering(n_clusters=k, affinity='euclidean', linkage='ward')\n",
    "clusters_hier = hierarchical_clustering.fit_predict(X_train)"
   ]
  },
  {
   "cell_type": "code",
   "execution_count": 1,
   "metadata": {},
   "outputs": [
    {
     "name": "stderr",
     "output_type": "stream",
     "text": [
      "\n",
      "KeyboardInterrupt\n",
      "\n"
     ]
    }
   ],
   "source": [
    "predicted_clusters = [[int(x) for x in hierarchical_clustering.fit_predict(X_test)],\n",
    "                      [int(x) for x in kmedoids.predict(X_test)],\n",
    "                      [int(x) for x in kmeans.predict(X_test)],\n",
    "                      [int(x) for x in mbkm.predict(X_test)]]\n",
    "methods = [\"Heirarchical clustering\", \"K medoids\", \"K means\", \"Minibatch K means\"]"
   ]
  },
  {
   "cell_type": "markdown",
   "metadata": {},
   "source": [
    "### Statistical Tests"
   ]
  },
  {
   "cell_type": "code",
   "execution_count": 499,
   "metadata": {},
   "outputs": [
    {
     "data": {
      "text/plain": [
       "5000"
      ]
     },
     "execution_count": 499,
     "metadata": {},
     "output_type": "execute_result"
    }
   ],
   "source": [
    "len(y_test)"
   ]
  },
  {
   "cell_type": "code",
   "execution_count": 500,
   "metadata": {},
   "outputs": [],
   "source": [
    "#mutual information\n",
    "from sklearn.metrics import mutual_info_score\n",
    "\n",
    "def calculate_mi_on_groups(cluster, labels, r, g):\n",
    "    mi = []\n",
    "    for i in range(0,r): \n",
    "        clusters_group = cluster[i*g: (i+1)*g]\n",
    "        labels_group = labels[i*g: (i+1)*g]\n",
    "        mi.append(mutual_info_score(clusters_group, labels_group))\n",
    "    return mi  "
   ]
  },
  {
   "cell_type": "code",
   "execution_count": 501,
   "metadata": {},
   "outputs": [
    {
     "name": "stdout",
     "output_type": "stream",
     "text": [
      "mutual information between Heirarchical clustering and the ground truth is 0.3770152776493563\n",
      "mutual information between K medoids and the ground truth is 0.4571062628180671\n",
      "mutual information between K means and the ground truth is 0.4115828626965893\n",
      "mutual information between Minibatch K means and the ground truth is 0.39401595015826196\n"
     ]
    }
   ],
   "source": [
    "\n",
    "labels_list_train = y_train\n",
    "labels_list_test = y_test\n",
    "\n",
    "mutual_informations = []\n",
    "for method_, cluster_ in zip(methods, predicted_clusters):\n",
    "    mutual_informations.append(calculate_mi_on_groups(cluster_, y_test, 50, 100))\n",
    "    print(f\"mutual information between {method_} and the ground truth is {np.mean(calculate_mi_on_groups(cluster_, y_test, 50, 100))}\")"
   ]
  },
  {
   "cell_type": "code",
   "execution_count": 520,
   "metadata": {},
   "outputs": [
    {
     "name": "stdout",
     "output_type": "stream",
     "text": [
      "mutual information between Heirarchical clustering and the ground truth is 0.3770152776493563\n",
      "mutual information between K medoids and the ground truth is 0.4571062628180671\n",
      "mutual information between K means and the ground truth is 0.4115828626965893\n",
      "mutual information between Minibatch K means and the ground truth is 0.39401595015826196\n"
     ]
    },
    {
     "data": {
      "image/png": "[encoded data removed]",
      "text/plain": [
       "<Figure size 640x480 with 1 Axes>"
      ]
     },
     "metadata": {},
     "output_type": "display_data"
    }
   ],
   "source": [
    "import matplotlib.pyplot as plt\n",
    "import numpy as np\n",
    "\n",
    "#Define the colormap\n",
    "cmap = plt.get_cmap('RdYlBu')\n",
    "\n",
    "labels_list_train = y_train\n",
    "labels_list_test = y_test\n",
    "\n",
    "mutual_informations = []\n",
    "labels = []\n",
    "for method_, cluster_ in zip(methods, predicted_clusters):\n",
    "    mi = calculate_mi_on_groups(cluster_, y_test, 50, 100)\n",
    "    mutual_informations.append(np.mean(mi))\n",
    "    labels.append(method_)\n",
    "    print(f\"mutual information between {method_} and the ground truth is {np.mean(mi)}\")\n",
    "\n",
    "#Plot the bar graph\n",
    "fig, ax = plt.subplots()\n",
    "bars = ax.bar(labels, mutual_informations, width=0.5, color=cmap(np.linspace(0, 1, len(mutual_informations))))\n",
    "\n",
    "#Add labels and title\n",
    "ax.set_ylabel('Mutual Information')\n",
    "ax.tick_params(axis='x', labelrotation=0, labelsize=10)\n",
    "plt.savefig('mutual_information_plot_music.png', dpi=300, bbox_inches='tight')\n",
    "\n",
    "plt.show()"
   ]
  },
  {
   "cell_type": "code",
   "execution_count": 502,
   "metadata": {},
   "outputs": [
    {
     "name": "stdout",
     "output_type": "stream",
     "text": [
      "t-statistic = 13.40, p-value = 5.41e-08 = 0.00000\n"
     ]
    }
   ],
   "source": [
    "#Anova test\n",
    "from scipy.stats import f_oneway\n",
    "# perform ANOVA test\n",
    "t_statistic, p_value = f_oneway(*mutual_informations)\n",
    "\n",
    "print(\"t-statistic = {:.2f}, p-value = {:.2e} = {:.5f}\".format(t_statistic, p_value, p_value))"
   ]
  },
  {
   "cell_type": "code",
   "execution_count": 503,
   "metadata": {},
   "outputs": [
    {
     "name": "stdout",
     "output_type": "stream",
     "text": [
      "t test between Heirarchical clustering and K medoids\n",
      "t-statistic = -5.92, p-value = 4.70e-08 = 0.00000\n",
      " \n",
      "t test between K medoids and K means\n",
      "t-statistic = 3.25, p-value = 1.57e-03 = 0.00157\n",
      " \n",
      "t test between K medoids and Minibatch K means\n",
      "t-statistic = 4.59, p-value = 1.33e-05 = 0.00001\n",
      " \n"
     ]
    }
   ],
   "source": [
    "from scipy.stats import ttest_ind\n",
    "\n",
    "dueos = [(0,1), (1,2), (1,3)]\n",
    "for i, j in dueos:\n",
    "    # perform t-test\n",
    "    t_statistic, p_value = ttest_ind(mutual_informations[i], mutual_informations[j])\n",
    "\n",
    "    # print the result\n",
    "    print(f\"t test between {methods[i]} and {methods[j]}\")\n",
    "    print(\"t-statistic = {:.2f}, p-value = {:.2e} = {:.5f}\".format(t_statistic, p_value, p_value))\n",
    "    print(\" \")\n"
   ]
  },
  {
   "cell_type": "code",
   "execution_count": null,
   "metadata": {},
   "outputs": [],
   "source": []
  },
  {
   "cell_type": "markdown",
   "metadata": {},
   "source": [
    "## Annomaly detection"
   ]
  },
  {
   "cell_type": "code",
   "execution_count": 504,
   "metadata": {},
   "outputs": [],
   "source": [
    "from sklearn.mixture import GaussianMixture\n",
    "from sklearn.neighbors import LocalOutlierFactor\n",
    "from sklearn.ensemble import IsolationForest\n",
    "from sklearn.svm import OneClassSVM"
   ]
  },
  {
   "cell_type": "code",
   "execution_count": 505,
   "metadata": {},
   "outputs": [],
   "source": [
    "#LOF\n",
    "lof = LocalOutlierFactor(n_neighbors=50, contamination=0.01)\n",
    "y_pred_lof = lof.fit_predict(X_train)\n",
    "y_pred_lof\n",
    "y_pred_lof_test = lof.fit_predict(X_test)"
   ]
  },
  {
   "cell_type": "code",
   "execution_count": 506,
   "metadata": {},
   "outputs": [
    {
     "name": "stderr",
     "output_type": "stream",
     "text": [
      "C:\\Users\\yuval\\anaconda3\\envs\\APPLIED_MACHINE_LEARING\\lib\\site-packages\\sklearn\\base.py:420: UserWarning: X does not have valid feature names, but IsolationForest was fitted with feature names\n",
      "  warnings.warn(\n",
      "C:\\Users\\yuval\\anaconda3\\envs\\APPLIED_MACHINE_LEARING\\lib\\site-packages\\sklearn\\base.py:420: UserWarning: X does not have valid feature names, but IsolationForest was fitted with feature names\n",
      "  warnings.warn(\n"
     ]
    }
   ],
   "source": [
    "#Isolation Forest\n",
    "isolation_forest = IsolationForest(n_estimators=500, contamination=0.01)\n",
    "y_pred_if = isolation_forest.fit_predict(X_train)\n",
    "y_pred_if\n",
    "y_pred_if_test = isolation_forest.fit_predict(X_test)"
   ]
  },
  {
   "cell_type": "code",
   "execution_count": 507,
   "metadata": {},
   "outputs": [],
   "source": [
    "#One-Class SVM\n",
    "one_class_svm = OneClassSVM(kernel='rbf', nu=0.01)\n",
    "one_class_svm.fit(X_train)\n",
    "y_pred_ocsvm = one_class_svm.predict(X_train)\n",
    "y_pred_ocsvm\n",
    "y_pred_ocsvm_test = one_class_svm.predict(X_test)"
   ]
  },
  {
   "cell_type": "code",
   "execution_count": 508,
   "metadata": {},
   "outputs": [
    {
     "name": "stdout",
     "output_type": "stream",
     "text": [
      "LOF detected 150 anomalies\n",
      "LOF detected on the test set 50 anomalies\n",
      "Isolation Forest detected 150 anomalies\n",
      "Isolation Forest detected on the test set 50 anomalies\n",
      "One-Class SVM detected 132 anomalies\n",
      "One-Class SVM detected on the test set 38 anomalies\n"
     ]
    }
   ],
   "source": [
    "# Print the number of anomalies\n",
    "print(\"LOF detected\", np.sum(y_pred_lof == -1), \"anomalies\")\n",
    "print(\"LOF detected on the test set\", np.sum(y_pred_lof_test == -1), \"anomalies\")\n",
    "print(\"Isolation Forest detected\", np.sum(y_pred_if == -1), \"anomalies\")\n",
    "print(\"Isolation Forest detected on the test set\", np.sum(y_pred_if_test == -1), \"anomalies\")\n",
    "print(\"One-Class SVM detected\", np.sum(y_pred_ocsvm == -1), \"anomalies\")\n",
    "print(\"One-Class SVM detected on the test set\", np.sum(y_pred_ocsvm_test == -1), \"anomalies\")"
   ]
  },
  {
   "cell_type": "code",
   "execution_count": 2,
   "metadata": {},
   "outputs": [
    {
     "name": "stderr",
     "output_type": "stream",
     "text": [
      "\n",
      "KeyboardInterrupt\n",
      "\n"
     ]
    }
   ],
   "source": [
    "mutual_information_ad = []\n",
    "methods_ad = [(y_pred_lof, y_pred_lof_test), (y_pred_if,y_pred_if_test), (y_pred_ocsvm,y_pred_ocsvm_test)]\n",
    "names = [\"LOF\", \"Isolation Forest\", \"One Class SVM\"]\n",
    "\n",
    "for i, anom, name, rg in zip(range(1,4), methods_ad, names, [(30, 165), (30, 165), (34, 146)]):\n",
    "    X_train_clean = X_train[anom[0] != -1]\n",
    "    X_test_clean = X_test[anom[1] != -1]\n",
    "    kmedoids = KMedoids(n_clusters=k, metric='euclidean').fit(X_train_clean)\n",
    "    clusters_kmedoids = kmedoids.predict(X_test_clean)\n",
    "    \n",
    "    mutual_information_ad.append(calculate_mi_on_groups(clusters_kmedoids, np.array(y_test)[anom[1] != -1], rg[0], rg[1]))\n",
    "plt.show()"
   ]
  },
  {
   "cell_type": "code",
   "execution_count": 511,
   "metadata": {},
   "outputs": [
    {
     "name": "stdout",
     "output_type": "stream",
     "text": [
      "mutual information between LOF and the ground truth is 0.37367807904783096\n",
      "mutual information between Isolation Forest and the ground truth is 0.36874079722815795\n",
      "mutual information between One Class SVM and the ground truth is 0.38974253848580753\n"
     ]
    }
   ],
   "source": [
    "for name, score in zip(names, mutual_information_ad):\n",
    "    print(f\"mutual information between {name} and the ground truth is {np.mean(score)}\")"
   ]
  },
  {
   "cell_type": "code",
   "execution_count": 512,
   "metadata": {},
   "outputs": [
    {
     "name": "stdout",
     "output_type": "stream",
     "text": [
      "t-statistic = 1.28, p-value = 2.82e-01 = 0.28178\n"
     ]
    }
   ],
   "source": [
    "#Anova test\n",
    "from scipy.stats import f_oneway\n",
    "# perform ANOVA test\n",
    "t_statistic, p_value = f_oneway(*mutual_information_ad)\n",
    "\n",
    "print(\"t-statistic = {:.2f}, p-value = {:.2e} = {:.5f}\".format(t_statistic, p_value, p_value))"
   ]
  },
  {
   "cell_type": "code",
   "execution_count": 513,
   "metadata": {},
   "outputs": [
    {
     "name": "stdout",
     "output_type": "stream",
     "text": [
      "t test between LOF and One Class SVM\n",
      "t-statistic = -2.69, p-value = 8.45e-03 = 0.00845\n",
      " \n",
      "t test between LOF and Isolation Forest\n",
      "t-statistic = -5.92, p-value = 4.70e-08 = 0.00000\n",
      " \n",
      "t test between Isolation Forest and One Class SVM\n",
      "t-statistic = 3.25, p-value = 1.57e-03 = 0.00157\n",
      " \n"
     ]
    }
   ],
   "source": [
    "from scipy.stats import ttest_ind\n",
    "\n",
    "dueos = [(0,2), (0,1), (1,2)]\n",
    "for i, j in dueos:\n",
    "    # perform t-test\n",
    "    t_statistic, p_value = ttest_ind(mutual_informations[i], mutual_informations[j])\n",
    "\n",
    "    # print the result\n",
    "    print(f\"t test between {names[i]} and {names[j]}\")\n",
    "    print(\"t-statistic = {:.2f}, p-value = {:.2e} = {:.5f}\".format(t_statistic, p_value, p_value))\n",
    "    print(\" \")"
   ]
  },
  {
   "cell_type": "markdown",
   "metadata": {},
   "source": [
    "**no one better AD method**"
   ]
  },
  {
   "cell_type": "markdown",
   "metadata": {},
   "source": [
    "### Check if there is an improvment in the clustering with LOF\n"
   ]
  },
  {
   "cell_type": "code",
   "execution_count": 514,
   "metadata": {},
   "outputs": [
    {
     "name": "stdout",
     "output_type": "stream",
     "text": [
      "mutual information between WITH AD and the ground truth is 0.48068400957474644\n",
      "mutual information between NO AD and the ground truth is 0.4571062628180671\n"
     ]
    }
   ],
   "source": [
    "#train the with AD model\n",
    "X_test_clean = X_test[y_pred_if_test != -1]\n",
    "kmedoids_ad = KMedoids(n_clusters=k, metric='euclidean')\n",
    "kmedoids_ad.fit(X_train)\n",
    "clusters_ad = kmedoids.predict(X_test_clean)\n",
    "\n",
    "count = 0\n",
    "clusters_with_anomalys = []\n",
    "for i in range(0, len(X_test)):\n",
    "    if y_pred_if_test[i] == -1:\n",
    "        clusters_with_anomalys.append(-1)\n",
    "        count+=1\n",
    "    else:\n",
    "        clusters_with_anomalys.append(clusters_ad[i-count])\n",
    "    \n",
    "print(f\"mutual information between WITH AD and the ground truth is {np.mean(calculate_mi_on_groups(clusters_with_anomalys, y_test, 50, 100))}\")\n",
    "\n",
    "#train the no AD model\n",
    "kmedoids_no_ad = KMedoids(n_clusters=k, metric='euclidean')\n",
    "kmedoids_no_ad.fit(X_train)\n",
    "clusters_no_ad = kmedoids.predict(X_test)\n",
    "\n",
    "print(f\"mutual information between NO AD and the ground truth is {np.mean(calculate_mi_on_groups(clusters_no_ad, y_test, 50, 100))}\")\n"
   ]
  },
  {
   "cell_type": "code",
   "execution_count": 515,
   "metadata": {},
   "outputs": [
    {
     "name": "stdout",
     "output_type": "stream",
     "text": [
      "t test between WITH AD and NO AD\n",
      "t-statistic = 1.57, p-value = 1.19e-01 = 0.11914\n"
     ]
    }
   ],
   "source": [
    "from scipy.stats import ttest_ind\n",
    "\n",
    "# perform t-test\n",
    "t_statistic, p_value = ttest_ind(calculate_mi_on_groups(clusters_with_anomalys, labels_list_test, 50, 100), calculate_mi_on_groups(clusters_no_ad, labels_list_test, 50, 100))\n",
    "\n",
    "# print the result\n",
    "print(f\"t test between WITH AD and NO AD\")\n",
    "print(\"t-statistic = {:.2f}, p-value = {:.2e} = {:.5f}\".format(t_statistic, p_value, p_value))\n"
   ]
  },
  {
   "cell_type": "code",
   "execution_count": 516,
   "metadata": {},
   "outputs": [
    {
     "name": "stdout",
     "output_type": "stream",
     "text": [
      "(5000, 2)\n"
     ]
    },
    {
     "name": "stderr",
     "output_type": "stream",
     "text": [
      "C:\\Users\\yuval\\AppData\\Local\\Temp\\ipykernel_7416\\3138037178.py:28: MatplotlibDeprecationWarning: The get_cmap function was deprecated in Matplotlib 3.7 and will be removed two minor releases later. Use ``matplotlib.colormaps[name]`` or ``matplotlib.colormaps.get_cmap(obj)`` instead.\n",
      "  new_cmap = plt.cm.get_cmap(cmap, len(unique_colors))\n",
      "C:\\Users\\yuval\\AppData\\Local\\Temp\\ipykernel_7416\\3138037178.py:33: MatplotlibDeprecationWarning: Unable to determine Axes to steal space for Colorbar. Using gca(), but will raise in the future. Either provide the *cax* argument to use as the Axes for the Colorbar, provide the *ax* argument to steal space from it, or add *mappable* to an Axes.\n",
      "  plt.colorbar(sm, format='')\n"
     ]
    },
    {
     "data": {
      "image/png": "[encoded data removed]",
      "text/plain": [
       "<Figure size 640x480 with 2 Axes>"
      ]
     },
     "metadata": {},
     "output_type": "display_data"
    }
   ],
   "source": [
    "import numpy as np\n",
    "import matplotlib.pyplot as plt\n",
    "from matplotlib.lines import Line2D\n",
    "\n",
    "#KMedoids\n",
    "kmedoids = KMedoids(n_clusters=k, metric='euclidean')\n",
    "kmedoids.fit(X_train)\n",
    "clusters_kmedoids = kmedoids.predict(X_test)\n",
    "\n",
    "tsne = TSNE(n_components=2)\n",
    "X_test_tsne = tsne.fit_transform(X_test)\n",
    "print(X_test_tsne.shape)\n",
    "\n",
    "cmap = \"RdYlBu\"\n",
    "l = 500\n",
    "normalize = plt.Normalize(vmin=np.min(y_test), vmax=np.max(y_test))\n",
    "\n",
    "# Plot the data points with labels\n",
    "plt.scatter(X_test_tsne[:, 0][0:l], X_test_tsne[:, 1][0:l], c=[int(x) for x in list(y_test[0:l])], cmap=cmap, norm=normalize, s=40, label='Ground truth')\n",
    "\n",
    "# Plot the data points with cluster labels\n",
    "plt.scatter(X_test_tsne[:, 0][0:l], X_test_tsne[:, 1][0:l], c=clusters_kmedoids[0:l], cmap=cmap, norm=normalize, s=1, label='Model generated')\n",
    "\n",
    "# Get the unique colors used in the plot\n",
    "unique_colors = np.unique(clusters_kmedoids[0:l])\n",
    "\n",
    "# Create a new color map using only the unique colors\n",
    "new_cmap = plt.cm.get_cmap(cmap, len(unique_colors))\n",
    "\n",
    "# Plot the color bar using the new color map\n",
    "sm = plt.cm.ScalarMappable(cmap=new_cmap, norm=normalize)\n",
    "sm.set_array([])\n",
    "plt.colorbar(sm, format='')\n",
    "\n",
    "# Create empty proxy artists for the legend\n",
    "legend_elements = [Line2D([0], [0], marker='o', color='w', label='Ground truth', markerfacecolor='none', markersize=8, markeredgecolor='k'),\n",
    "                   Line2D([0], [0], marker='o', color='w', label='Model generated', markerfacecolor='none', markersize=3, markeredgecolor='k')]\n",
    "\n",
    "# Add legend with labels and no fill color\n",
    "plt.legend(handles=legend_elements, loc='upper left')\n",
    "\n",
    "# Add labels and title\n",
    "plt.xlabel('TSNE 1')\n",
    "plt.ylabel('TSNE 2')\n",
    "plt.savefig(f'music_resualts_plot_{cmap}_last.png', dpi=300, bbox_inches='tight')\n",
    "# Show the plot\n",
    "plt.show()"
   ]
  }
 ],
 "metadata": {
  "kernelspec": {
   "display_name": "Python 3 (ipykernel)",
   "language": "python",
   "name": "python3"
  },
  "language_info": {
   "codemirror_mode": {
    "name": "ipython",
    "version": 3
   },
   "file_extension": ".py",
   "mimetype": "text/x-python",
   "name": "python",
   "nbconvert_exporter": "python",
   "pygments_lexer": "ipython3",
   "version": "3.8.15"
  }
 },
 "nbformat": 4,
 "nbformat_minor": 4
}
